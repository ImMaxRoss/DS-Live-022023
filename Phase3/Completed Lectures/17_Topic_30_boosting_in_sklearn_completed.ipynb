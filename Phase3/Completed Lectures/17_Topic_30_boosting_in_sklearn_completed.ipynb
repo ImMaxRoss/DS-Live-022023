{
 "cells": [
  {
   "cell_type": "markdown",
   "metadata": {
    "toc": true
   },
   "source": [
    "<h1>Table of Contents<span class=\"tocSkip\"></span></h1>\n",
    "<div class=\"toc\"><ul class=\"toc-item\"><li><span><a href=\"#Objectives\" data-toc-modified-id=\"Objectives-1\"><span class=\"toc-item-num\">1&nbsp;&nbsp;</span>Objectives</a></span></li><li><span><a href=\"#Intro\" data-toc-modified-id=\"Intro-2\"><span class=\"toc-item-num\">2&nbsp;&nbsp;</span>Intro</a></span><ul class=\"toc-item\"><li><span><a href=\"#Two-Types\" data-toc-modified-id=\"Two-Types-2.1\"><span class=\"toc-item-num\">2.1&nbsp;&nbsp;</span>Two Types</a></span></li></ul></li><li><span><a href=\"#Create-Some-Noisy-Data\" data-toc-modified-id=\"Create-Some-Noisy-Data-3\"><span class=\"toc-item-num\">3&nbsp;&nbsp;</span>Create Some Noisy Data</a></span></li><li><span><a href=\"#AdaBoost-(Adaptive-Boosting)\" data-toc-modified-id=\"AdaBoost-(Adaptive-Boosting)-4\"><span class=\"toc-item-num\">4&nbsp;&nbsp;</span>AdaBoost (Adaptive Boosting)</a></span><ul class=\"toc-item\"><li><span><a href=\"#Algorithm\" data-toc-modified-id=\"Algorithm-4.1\"><span class=\"toc-item-num\">4.1&nbsp;&nbsp;</span>Algorithm</a></span></li><li><span><a href=\"#Voting\" data-toc-modified-id=\"Voting-4.2\"><span class=\"toc-item-num\">4.2&nbsp;&nbsp;</span>Voting</a></span></li><li><span><a href=\"#AdaBoost-in-Scikit-Learn\" data-toc-modified-id=\"AdaBoost-in-Scikit-Learn-4.3\"><span class=\"toc-item-num\">4.3&nbsp;&nbsp;</span>AdaBoost in Scikit-Learn</a></span><ul class=\"toc-item\"><li><ul class=\"toc-item\"><li><span><a href=\"#Hyperparameters\" data-toc-modified-id=\"Hyperparameters-4.3.0.1\"><span class=\"toc-item-num\">4.3.0.1&nbsp;&nbsp;</span>Hyperparameters</a></span></li></ul></li><li><span><a href=\"#Galaxy-Data\" data-toc-modified-id=\"Galaxy-Data-4.3.1\"><span class=\"toc-item-num\">4.3.1&nbsp;&nbsp;</span>Galaxy Data</a></span><ul class=\"toc-item\"><li><span><a href=\"#Hyperparameter-Tuning\" data-toc-modified-id=\"Hyperparameter-Tuning-4.3.1.1\"><span class=\"toc-item-num\">4.3.1.1&nbsp;&nbsp;</span>Hyperparameter Tuning</a></span></li></ul></li></ul></li></ul></li><li><span><a href=\"#Gradient-Boosting\" data-toc-modified-id=\"Gradient-Boosting-5\"><span class=\"toc-item-num\">5&nbsp;&nbsp;</span>Gradient Boosting</a></span><ul class=\"toc-item\"><li><span><a href=\"#Algorithm\" data-toc-modified-id=\"Algorithm-5.1\"><span class=\"toc-item-num\">5.1&nbsp;&nbsp;</span>Algorithm</a></span></li><li><span><a href=\"#Example-of-Iterative-Steps\" data-toc-modified-id=\"Example-of-Iterative-Steps-5.2\"><span class=\"toc-item-num\">5.2&nbsp;&nbsp;</span>Example of Iterative Steps</a></span><ul class=\"toc-item\"><li><span><a href=\"#Recall-our-noisy-data-from-earlier\" data-toc-modified-id=\"Recall-our-noisy-data-from-earlier-5.2.1\"><span class=\"toc-item-num\">5.2.1&nbsp;&nbsp;</span>Recall our noisy data from earlier</a></span></li><li><span><a href=\"#Train-iteratively-on-the-residuals-of-its-predecessor\" data-toc-modified-id=\"Train-iteratively-on-the-residuals-of-its-predecessor-5.2.2\"><span class=\"toc-item-num\">5.2.2&nbsp;&nbsp;</span>Train iteratively on the residuals of its predecessor</a></span></li><li><span><a href=\"#Observe-how-the-regressor-gets-better\" data-toc-modified-id=\"Observe-how-the-regressor-gets-better-5.2.3\"><span class=\"toc-item-num\">5.2.3&nbsp;&nbsp;</span>Observe how the regressor gets better</a></span></li><li><span><a href=\"#Using-SciKit-learn's-Gradient-Boosting\" data-toc-modified-id=\"Using-SciKit-learn's-Gradient-Boosting-5.2.4\"><span class=\"toc-item-num\">5.2.4&nbsp;&nbsp;</span>Using SciKit-learn's Gradient Boosting</a></span></li></ul></li><li><span><a href=\"#Comparing-gradient-boosting-with-many-estimators\" data-toc-modified-id=\"Comparing-gradient-boosting-with-many-estimators-5.3\"><span class=\"toc-item-num\">5.3&nbsp;&nbsp;</span>Comparing gradient boosting with many estimators</a></span></li></ul></li><li><span><a href=\"#XGBoost\" data-toc-modified-id=\"XGBoost-6\"><span class=\"toc-item-num\">6&nbsp;&nbsp;</span>XGBoost</a></span><ul class=\"toc-item\"><li><span><a href=\"#XGBoost-Regression\" data-toc-modified-id=\"XGBoost-Regression-6.1\"><span class=\"toc-item-num\">6.1&nbsp;&nbsp;</span>XGBoost Regression</a></span></li></ul></li><li><span><a href=\"#Level-Up:-Regression-or-Classification?\" data-toc-modified-id=\"Level-Up:-Regression-or-Classification?-7\"><span class=\"toc-item-num\">7&nbsp;&nbsp;</span>Level Up: Regression or Classification?</a></span><ul class=\"toc-item\"><li><span><a href=\"#Adaboost-Classification\" data-toc-modified-id=\"Adaboost-Classification-7.1\"><span class=\"toc-item-num\">7.1&nbsp;&nbsp;</span>Adaboost Classification</a></span></li><li><span><a href=\"#GradientBoosting\" data-toc-modified-id=\"GradientBoosting-7.2\"><span class=\"toc-item-num\">7.2&nbsp;&nbsp;</span>GradientBoosting</a></span></li><li><span><a href=\"#XGBoost-Classification\" data-toc-modified-id=\"XGBoost-Classification-7.3\"><span class=\"toc-item-num\">7.3&nbsp;&nbsp;</span>XGBoost Classification</a></span></li></ul></li></ul></div>"
   ]
  },
  {
   "cell_type": "code",
   "execution_count": 1,
   "metadata": {},
   "outputs": [],
   "source": [
    "import pandas as pd\n",
    "import numpy as np\n",
    "import matplotlib.pyplot as plt\n",
    "import matplotlib as mpl\n",
    "seed = 42\n",
    "np.random.seed(seed)\n",
    "\n",
    "from sklearn.ensemble import AdaBoostRegressor, GradientBoostingRegressor, \\\n",
    "AdaBoostClassifier, GradientBoostingClassifier\n",
    "from sklearn.tree import DecisionTreeRegressor\n",
    "\n",
    "import xgboost\n",
    "\n",
    "from sklearn.model_selection import train_test_split, cross_val_score, GridSearchCV\n",
    "from sklearn.metrics import precision_score, recall_score, confusion_matrix\n",
    "\n",
    "\n",
    "%matplotlib inline"
   ]
  },
  {
   "cell_type": "markdown",
   "metadata": {
    "heading_collapsed": true
   },
   "source": [
    "# Objectives"
   ]
  },
  {
   "cell_type": "markdown",
   "metadata": {
    "hidden": true
   },
   "source": [
    "- Describe boosting algorithms\n",
    "- Implement boosting models with `sklearn` \n",
    "- Implement boosting models with `XGBoost`"
   ]
  },
  {
   "cell_type": "markdown",
   "metadata": {
    "heading_collapsed": true
   },
   "source": [
    "# Intro"
   ]
  },
  {
   "cell_type": "markdown",
   "metadata": {
    "hidden": true
   },
   "source": [
    "One of the problems with using single decision trees and random forests is that, once I make a split, I can't go back and consider how another feature varies across the whole dataset. But suppose I were to consider **my tree's errors**. The fundamental idea of ***boosting*** is to start with a weak learner and then to use information about its errors to build a new model that can supplement the original model."
   ]
  },
  {
   "cell_type": "markdown",
   "metadata": {
    "heading_collapsed": true,
    "hidden": true
   },
   "source": [
    "## Two Types"
   ]
  },
  {
   "cell_type": "markdown",
   "metadata": {
    "hidden": true
   },
   "source": [
    "The two main types of boosting available in Scikit-Learn are adaptive boosting (AdaBoostClassifier, AdaBoostRegressor) and gradient boosting (GradientBoostingClassifier, GradientBoostingRegressor).\n",
    "\n",
    "Again, the fundamental idea of boosting is to use a sequence of **weak** learners to build a model. Though the individual learners are weak, the idea is to train iteratively in order to produce a better predictor. More specifically, the first learner will be trained on the data as it stands, but future learners will be trained on modified versions of the data. The point of the modifications is to highlight the \"hard-to-predict-accurately\" portions of the data."
   ]
  },
  {
   "cell_type": "markdown",
   "metadata": {
    "heading_collapsed": true
   },
   "source": [
    "# Create Some Noisy Data"
   ]
  },
  {
   "cell_type": "code",
   "execution_count": 2,
   "metadata": {
    "hidden": true
   },
   "outputs": [
    {
     "data": {
      "image/png": "[encoded data removed]",
      "text/plain": [
       "<Figure size 432x288 with 1 Axes>"
      ]
     },
     "metadata": {
      "needs_background": "light"
     },
     "output_type": "display_data"
    }
   ],
   "source": [
    "n = 200\n",
    "X = np.random.rand(n, 1) - 0.5\n",
    "y = 3*X[:, 0]**2 + 0.05 * np.random.randn(n)\n",
    "\n",
    "fig, ax = plt.subplots()\n",
    "ax.scatter(X, y, alpha=0.3);"
   ]
  },
  {
   "cell_type": "code",
   "execution_count": 3,
   "metadata": {
    "hidden": true
   },
   "outputs": [],
   "source": [
    "X_train, X_test, y_train, y_test = train_test_split(X, y, random_state=seed)"
   ]
  },
  {
   "cell_type": "code",
   "execution_count": 4,
   "metadata": {
    "hidden": true
   },
   "outputs": [
    {
     "data": {
      "image/png": "[encoded data removed]",
      "text/plain": [
       "<Figure size 864x288 with 2 Axes>"
      ]
     },
     "metadata": {
      "needs_background": "light"
     },
     "output_type": "display_data"
    }
   ],
   "source": [
    "f, (ax0,ax1) = plt.subplots(ncols=2, figsize=(12,4))\n",
    "ax0.scatter(X_train, y_train, alpha=0.3)\n",
    "ax1.scatter(X_test, y_test, alpha=0.3);"
   ]
  },
  {
   "cell_type": "markdown",
   "metadata": {
    "heading_collapsed": true
   },
   "source": [
    "# AdaBoost (Adaptive Boosting)"
   ]
  },
  {
   "cell_type": "markdown",
   "metadata": {
    "hidden": true
   },
   "source": [
    "- **AdaBoost** works by iteratively adapting two related series of weights, one attached to the datapoints and the other attached to the learners themselves. Datapoints that are incorrectly classified receive greater weights for the next learner in the sequence. That way, future learners will be more likely to focus on those datapoints. At the end of the sequence, the learners that make better predictions, especially on the datapoints that are more resistant to correct classification, receive more weight in the final \"vote\" that determines the ensemble's prediction. <br/> Suppose we have a binary classification problem and we represent the two classes with 1 and -1. (This is standard for describing the algorithm of AdaBoost.) <br/>\n",
    "Then, in a nutshell: <br/>\n",
    "    1. Train a weak learner. <br/>\n",
    "    2. Calculate its error $\\epsilon$. <br/>\n",
    "    3. Use that error as a weight on the classifier: $\\theta = \\frac{1}{2}ln\\left(\\frac{1-\\epsilon}{\\epsilon}\\right)$. <br/>\n",
    "    Note that $\\theta$ CAN be negative. This represents a classifier whose accuracy is _worse_ than chance. <br/>\n",
    "    4. Use _that_ to adjust the data points' weights: $w_{n+1} = w_n\\left(\\frac{e^{\\pm\\theta}}{scaler}\\right)$. Use $+\\theta$ for incorrect predictions, $-\\theta$ for correct predictions. <br/>  $\\rightarrow$ For more detail on AdaBoost, see [here](https://www.analyticsvidhya.com/blog/2021/09/adaboost-algorithm-a-complete-guide-for-beginners/)."
   ]
  },
  {
   "cell_type": "markdown",
   "metadata": {
    "heading_collapsed": true,
    "hidden": true
   },
   "source": [
    "## Algorithm"
   ]
  },
  {
   "cell_type": "markdown",
   "metadata": {
    "hidden": true
   },
   "source": [
    "- Train model\n",
    "- Inflate errors\n",
    "- Retrain model using errors (repeat)"
   ]
  },
  {
   "cell_type": "markdown",
   "metadata": {
    "hidden": true
   },
   "source": [
    "![](images/adaboost.png)"
   ]
  },
  {
   "cell_type": "markdown",
   "metadata": {
    "heading_collapsed": true,
    "hidden": true
   },
   "source": [
    "## Voting"
   ]
  },
  {
   "cell_type": "markdown",
   "metadata": {
    "hidden": true
   },
   "source": [
    "Combine weak learners"
   ]
  },
  {
   "cell_type": "markdown",
   "metadata": {
    "hidden": true
   },
   "source": [
    "+ Vote by combining these calculated $y$ for each crossed-area (negative for \"not blue\" or whatever)"
   ]
  },
  {
   "cell_type": "markdown",
   "metadata": {
    "heading_collapsed": true,
    "hidden": true
   },
   "source": [
    "## AdaBoost in Scikit-Learn"
   ]
  },
  {
   "cell_type": "markdown",
   "metadata": {
    "hidden": true
   },
   "source": [
    "https://scikit-learn.org/stable/modules/generated/sklearn.ensemble.AdaBoostRegressor.html"
   ]
  },
  {
   "cell_type": "code",
   "execution_count": 5,
   "metadata": {
    "hidden": true,
    "scrolled": true
   },
   "outputs": [
    {
     "data": {
      "text/plain": [
       "array([0.05414538, 0.20400897, 0.38853349, 0.27864377, 0.38254987,\n",
       "       0.27864377, 0.64675019, 0.67698499, 0.04630117, 0.04630117,\n",
       "       0.04730744, 0.04630117, 0.38254987, 0.34549395, 0.27224005,\n",
       "       0.04630117, 0.66224273, 0.17015635, 0.41309818, 0.04630117,\n",
       "       0.23473037, 0.385444  , 0.05414538, 0.04630117, 0.46578038,\n",
       "       0.27224005, 0.21480914, 0.66264678, 0.68871023, 0.38254987,\n",
       "       0.11418124, 0.54986398, 0.05235803, 0.04630117, 0.46578038,\n",
       "       0.05235803, 0.05414538, 0.05235803, 0.48319554, 0.16690204,\n",
       "       0.05414538, 0.17015635, 0.05414538, 0.6216449 , 0.66264678,\n",
       "       0.04730744, 0.11418124, 0.5784184 , 0.04630117, 0.27224005,\n",
       "       0.38853349, 0.56395257, 0.04630117, 0.66224273, 0.53784776,\n",
       "       0.09905035, 0.7526262 , 0.31910395, 0.54342341, 0.04935602,\n",
       "       0.05235803, 0.04730744, 0.43029055, 0.04630117, 0.22841543,\n",
       "       0.42853641, 0.09905035, 0.16690204, 0.04630117, 0.04730744,\n",
       "       0.41309818, 0.20400897, 0.17015635, 0.05631662, 0.25608894,\n",
       "       0.04730744, 0.16690204, 0.04630117, 0.05414538, 0.04630117,\n",
       "       0.66224273, 0.04630117, 0.19224244, 0.70139735, 0.48682734,\n",
       "       0.04730744, 0.04935602, 0.17015635, 0.46578038, 0.04730744,\n",
       "       0.04730744, 0.54347369, 0.05414538, 0.38254987, 0.39954757,\n",
       "       0.65751809, 0.39993415, 0.05414538, 0.09905035, 0.56395257,\n",
       "       0.06289178, 0.41553576, 0.04630117, 0.04935602, 0.20925076,\n",
       "       0.05235803, 0.75435245, 0.20400897, 0.04630117, 0.75435245,\n",
       "       0.38254987, 0.56308788, 0.38254987, 0.40644244, 0.04730744,\n",
       "       0.04935602, 0.1877348 , 0.66264678, 0.09905035, 0.63863529,\n",
       "       0.04630117, 0.43029055, 0.38964517, 0.38964517, 0.04730744,\n",
       "       0.47248262, 0.04630117, 0.45500425, 0.1877348 , 0.05414538,\n",
       "       0.6216449 , 0.54347369, 0.10641876, 0.04630117, 0.20400897,\n",
       "       0.04630117, 0.43083742, 0.26320391, 0.05414538, 0.06690735,\n",
       "       0.46578038, 0.25608894, 0.04935602, 0.04630117, 0.21480914,\n",
       "       0.04630117, 0.38254987, 0.1877348 , 0.38964517, 0.05235803])"
      ]
     },
     "execution_count": 5,
     "metadata": {},
     "output_type": "execute_result"
    }
   ],
   "source": [
    "model = AdaBoostRegressor()\n",
    "model.fit(X_train, y_train)\n",
    "model.predict(X_train)"
   ]
  },
  {
   "cell_type": "code",
   "execution_count": 6,
   "metadata": {
    "hidden": true
   },
   "outputs": [
    {
     "data": {
      "text/plain": [
       "0.9429540642415644"
      ]
     },
     "execution_count": 6,
     "metadata": {},
     "output_type": "execute_result"
    }
   ],
   "source": [
    "model.score(X_test,y_test)"
   ]
  },
  {
   "cell_type": "markdown",
   "metadata": {
    "heading_collapsed": true,
    "hidden": true
   },
   "source": [
    "#### Hyperparameters"
   ]
  },
  {
   "cell_type": "markdown",
   "metadata": {
    "hidden": true
   },
   "source": [
    "`base_estimator`: The model utilized for the weak learners (Warning: Don't forget to import the model that you decide to use for the weak learner).\n",
    "`n_estimators`: The maximum number of weak learners used."
   ]
  },
  {
   "cell_type": "code",
   "execution_count": 7,
   "metadata": {
    "hidden": true
   },
   "outputs": [
    {
     "data": {
      "text/plain": [
       "0.9491419730066043"
      ]
     },
     "execution_count": 7,
     "metadata": {},
     "output_type": "execute_result"
    }
   ],
   "source": [
    "model = AdaBoostRegressor(\n",
    "            base_estimator=DecisionTreeRegressor(max_depth=6), \n",
    "            n_estimators=200,\n",
    "            random_state=27\n",
    ")\n",
    "\n",
    "model.fit(X_train, y_train)\n",
    "model.score(X_test,y_test)"
   ]
  },
  {
   "cell_type": "markdown",
   "metadata": {
    "heading_collapsed": true,
    "hidden": true
   },
   "source": [
    "### Galaxy Data"
   ]
  },
  {
   "cell_type": "code",
   "execution_count": 8,
   "metadata": {
    "hidden": true
   },
   "outputs": [
    {
     "data": {
      "text/html": [
       "<div>\n",
       "<style scoped>\n",
       "    .dataframe tbody tr th:only-of-type {\n",
       "        vertical-align: middle;\n",
       "    }\n",
       "\n",
       "    .dataframe tbody tr th {\n",
       "        vertical-align: top;\n",
       "    }\n",
       "\n",
       "    .dataframe thead th {\n",
       "        text-align: right;\n",
       "    }\n",
       "</style>\n",
       "<table border=\"1\" class=\"dataframe\">\n",
       "  <thead>\n",
       "    <tr style=\"text-align: right;\">\n",
       "      <th></th>\n",
       "      <th>Nr</th>\n",
       "      <th>Rmag</th>\n",
       "      <th>e.Rmag</th>\n",
       "      <th>ApDRmag</th>\n",
       "      <th>mumax</th>\n",
       "      <th>Mcz</th>\n",
       "      <th>e.Mcz</th>\n",
       "      <th>MCzml</th>\n",
       "      <th>chi2red</th>\n",
       "      <th>UjMAG</th>\n",
       "      <th>...</th>\n",
       "      <th>UFS</th>\n",
       "      <th>e.UFS</th>\n",
       "      <th>BFS</th>\n",
       "      <th>e.BFS</th>\n",
       "      <th>VFD</th>\n",
       "      <th>e.VFD</th>\n",
       "      <th>RFS</th>\n",
       "      <th>e.RFS</th>\n",
       "      <th>IFD</th>\n",
       "      <th>e.IFD</th>\n",
       "    </tr>\n",
       "  </thead>\n",
       "  <tbody>\n",
       "    <tr>\n",
       "      <th>0</th>\n",
       "      <td>6</td>\n",
       "      <td>24.995</td>\n",
       "      <td>0.097</td>\n",
       "      <td>0.935</td>\n",
       "      <td>24.214</td>\n",
       "      <td>0.832</td>\n",
       "      <td>0.036</td>\n",
       "      <td>1.400</td>\n",
       "      <td>0.64</td>\n",
       "      <td>-17.67</td>\n",
       "      <td>...</td>\n",
       "      <td>0.01870</td>\n",
       "      <td>0.00239</td>\n",
       "      <td>0.01630</td>\n",
       "      <td>0.00129</td>\n",
       "      <td>0.017300</td>\n",
       "      <td>0.00141</td>\n",
       "      <td>0.01650</td>\n",
       "      <td>0.000434</td>\n",
       "      <td>0.02470</td>\n",
       "      <td>0.00483</td>\n",
       "    </tr>\n",
       "    <tr>\n",
       "      <th>1</th>\n",
       "      <td>9</td>\n",
       "      <td>25.013</td>\n",
       "      <td>0.181</td>\n",
       "      <td>-0.135</td>\n",
       "      <td>25.303</td>\n",
       "      <td>0.927</td>\n",
       "      <td>0.122</td>\n",
       "      <td>0.864</td>\n",
       "      <td>0.41</td>\n",
       "      <td>-18.28</td>\n",
       "      <td>...</td>\n",
       "      <td>0.00706</td>\n",
       "      <td>0.00238</td>\n",
       "      <td>0.00420</td>\n",
       "      <td>0.00115</td>\n",
       "      <td>0.003930</td>\n",
       "      <td>0.00182</td>\n",
       "      <td>0.00723</td>\n",
       "      <td>0.000500</td>\n",
       "      <td>0.00973</td>\n",
       "      <td>0.00460</td>\n",
       "    </tr>\n",
       "    <tr>\n",
       "      <th>2</th>\n",
       "      <td>16</td>\n",
       "      <td>24.246</td>\n",
       "      <td>0.054</td>\n",
       "      <td>0.821</td>\n",
       "      <td>23.511</td>\n",
       "      <td>1.202</td>\n",
       "      <td>0.037</td>\n",
       "      <td>1.217</td>\n",
       "      <td>0.92</td>\n",
       "      <td>-19.75</td>\n",
       "      <td>...</td>\n",
       "      <td>0.01260</td>\n",
       "      <td>0.00184</td>\n",
       "      <td>0.01830</td>\n",
       "      <td>0.00115</td>\n",
       "      <td>0.018800</td>\n",
       "      <td>0.00167</td>\n",
       "      <td>0.02880</td>\n",
       "      <td>0.000655</td>\n",
       "      <td>0.05700</td>\n",
       "      <td>0.00465</td>\n",
       "    </tr>\n",
       "    <tr>\n",
       "      <th>3</th>\n",
       "      <td>21</td>\n",
       "      <td>25.203</td>\n",
       "      <td>0.128</td>\n",
       "      <td>0.639</td>\n",
       "      <td>24.948</td>\n",
       "      <td>0.912</td>\n",
       "      <td>0.177</td>\n",
       "      <td>0.776</td>\n",
       "      <td>0.39</td>\n",
       "      <td>-17.83</td>\n",
       "      <td>...</td>\n",
       "      <td>0.01410</td>\n",
       "      <td>0.00186</td>\n",
       "      <td>0.01180</td>\n",
       "      <td>0.00110</td>\n",
       "      <td>0.009670</td>\n",
       "      <td>0.00204</td>\n",
       "      <td>0.01050</td>\n",
       "      <td>0.000416</td>\n",
       "      <td>0.01340</td>\n",
       "      <td>0.00330</td>\n",
       "    </tr>\n",
       "    <tr>\n",
       "      <th>4</th>\n",
       "      <td>26</td>\n",
       "      <td>25.504</td>\n",
       "      <td>0.112</td>\n",
       "      <td>-1.588</td>\n",
       "      <td>24.934</td>\n",
       "      <td>0.848</td>\n",
       "      <td>0.067</td>\n",
       "      <td>1.330</td>\n",
       "      <td>1.45</td>\n",
       "      <td>-17.69</td>\n",
       "      <td>...</td>\n",
       "      <td>0.00514</td>\n",
       "      <td>0.00170</td>\n",
       "      <td>0.00102</td>\n",
       "      <td>0.00127</td>\n",
       "      <td>0.000039</td>\n",
       "      <td>0.00160</td>\n",
       "      <td>0.00139</td>\n",
       "      <td>0.000499</td>\n",
       "      <td>0.00590</td>\n",
       "      <td>0.00444</td>\n",
       "    </tr>\n",
       "  </tbody>\n",
       "</table>\n",
       "<p>5 rows × 65 columns</p>\n",
       "</div>"
      ],
      "text/plain": [
       "   Nr    Rmag  e.Rmag  ApDRmag   mumax    Mcz  e.Mcz  MCzml  chi2red  UjMAG  \\\n",
       "0   6  24.995   0.097    0.935  24.214  0.832  0.036  1.400     0.64 -17.67   \n",
       "1   9  25.013   0.181   -0.135  25.303  0.927  0.122  0.864     0.41 -18.28   \n",
       "2  16  24.246   0.054    0.821  23.511  1.202  0.037  1.217     0.92 -19.75   \n",
       "3  21  25.203   0.128    0.639  24.948  0.912  0.177  0.776     0.39 -17.83   \n",
       "4  26  25.504   0.112   -1.588  24.934  0.848  0.067  1.330     1.45 -17.69   \n",
       "\n",
       "   ...      UFS    e.UFS      BFS    e.BFS       VFD    e.VFD      RFS  \\\n",
       "0  ...  0.01870  0.00239  0.01630  0.00129  0.017300  0.00141  0.01650   \n",
       "1  ...  0.00706  0.00238  0.00420  0.00115  0.003930  0.00182  0.00723   \n",
       "2  ...  0.01260  0.00184  0.01830  0.00115  0.018800  0.00167  0.02880   \n",
       "3  ...  0.01410  0.00186  0.01180  0.00110  0.009670  0.00204  0.01050   \n",
       "4  ...  0.00514  0.00170  0.00102  0.00127  0.000039  0.00160  0.00139   \n",
       "\n",
       "      e.RFS      IFD    e.IFD  \n",
       "0  0.000434  0.02470  0.00483  \n",
       "1  0.000500  0.00973  0.00460  \n",
       "2  0.000655  0.05700  0.00465  \n",
       "3  0.000416  0.01340  0.00330  \n",
       "4  0.000499  0.00590  0.00444  \n",
       "\n",
       "[5 rows x 65 columns]"
      ]
     },
     "execution_count": 8,
     "metadata": {},
     "output_type": "execute_result"
    }
   ],
   "source": [
    "galaxies = pd.read_csv('data/COMBO17.csv')\n",
    "galaxies.head()"
   ]
  },
  {
   "cell_type": "markdown",
   "metadata": {
    "hidden": true
   },
   "source": [
    "This is a dataset about galaxies. The Mcz and MCzml columns are measures of redshift, which is our target. Mcz is usually understood to be a better measure, so that will be our target column. Many of the other columns have to do with various measures of galaxies' magnitudes. For more on the dataset, see [here](https://astrostatistics.psu.edu/datasets/COMBO17.html)."
   ]
  },
  {
   "cell_type": "code",
   "execution_count": 9,
   "metadata": {
    "hidden": true
   },
   "outputs": [
    {
     "data": {
      "text/plain": [
       "Index(['Nr', 'Rmag', 'e.Rmag', 'ApDRmag', 'mumax', 'Mcz', 'e.Mcz', 'MCzml',\n",
       "       'chi2red', 'UjMAG', 'e.UjMAG', 'BjMAG', 'e.BjMAG', 'VjMAG', 'e.VjMAG',\n",
       "       'usMAG', 'e.usMAG', 'gsMAG', 'e.gsMAG', 'rsMAG', 'e.rsMAG', 'UbMAG',\n",
       "       'e.UbMAG', 'BbMAG', 'e.BbMAG', 'VnMAG', 'e.VbMAG', 'S280MAG',\n",
       "       'e.S280MA', 'W420FE', 'e.W420FE', 'W462FE', 'e.W462FE', 'W485FD',\n",
       "       'e.W485FD', 'W518FE', 'e.W518FE', 'W571FS', 'e.W571FS', 'W604FE',\n",
       "       'e.W604FE', 'W646FD', 'e.W646FD', 'W696FE', 'e.W696FE', 'W753FE',\n",
       "       'e.W753FE', 'W815FS', 'e.W815FS', 'W856FD', 'e.W856FD', 'W914FD',\n",
       "       'e.W914FD', 'W914FE', 'e.W914FE', 'UFS', 'e.UFS', 'BFS', 'e.BFS', 'VFD',\n",
       "       'e.VFD', 'RFS', 'e.RFS', 'IFD', 'e.IFD'],\n",
       "      dtype='object')"
      ]
     },
     "execution_count": 9,
     "metadata": {},
     "output_type": "execute_result"
    }
   ],
   "source": [
    "galaxies.columns"
   ]
  },
  {
   "cell_type": "code",
   "execution_count": 10,
   "metadata": {
    "hidden": true
   },
   "outputs": [
    {
     "data": {
      "text/plain": [
       "50"
      ]
     },
     "execution_count": 10,
     "metadata": {},
     "output_type": "execute_result"
    }
   ],
   "source": [
    "galaxies.isnull().sum().sum()"
   ]
  },
  {
   "cell_type": "code",
   "execution_count": 11,
   "metadata": {
    "hidden": true,
    "scrolled": true
   },
   "outputs": [
    {
     "name": "stdout",
     "output_type": "stream",
     "text": [
      "<class 'pandas.core.frame.DataFrame'>\n",
      "RangeIndex: 3462 entries, 0 to 3461\n",
      "Data columns (total 65 columns):\n",
      " #   Column    Non-Null Count  Dtype  \n",
      "---  ------    --------------  -----  \n",
      " 0   Nr        3462 non-null   int64  \n",
      " 1   Rmag      3462 non-null   float64\n",
      " 2   e.Rmag    3462 non-null   float64\n",
      " 3   ApDRmag   3462 non-null   float64\n",
      " 4   mumax     3462 non-null   float64\n",
      " 5   Mcz       3462 non-null   float64\n",
      " 6   e.Mcz     3462 non-null   float64\n",
      " 7   MCzml     3462 non-null   float64\n",
      " 8   chi2red   3462 non-null   float64\n",
      " 9   UjMAG     3462 non-null   float64\n",
      " 10  e.UjMAG   3462 non-null   float64\n",
      " 11  BjMAG     3462 non-null   float64\n",
      " 12  e.BjMAG   3462 non-null   float64\n",
      " 13  VjMAG     3462 non-null   float64\n",
      " 14  e.VjMAG   3462 non-null   float64\n",
      " 15  usMAG     3462 non-null   float64\n",
      " 16  e.usMAG   3462 non-null   float64\n",
      " 17  gsMAG     3462 non-null   float64\n",
      " 18  e.gsMAG   3462 non-null   float64\n",
      " 19  rsMAG     3462 non-null   float64\n",
      " 20  e.rsMAG   3462 non-null   float64\n",
      " 21  UbMAG     3462 non-null   float64\n",
      " 22  e.UbMAG   3462 non-null   float64\n",
      " 23  BbMAG     3462 non-null   float64\n",
      " 24  e.BbMAG   3462 non-null   float64\n",
      " 25  VnMAG     3461 non-null   float64\n",
      " 26  e.VbMAG   3461 non-null   float64\n",
      " 27  S280MAG   3438 non-null   float64\n",
      " 28  e.S280MA  3438 non-null   float64\n",
      " 29  W420FE    3462 non-null   float64\n",
      " 30  e.W420FE  3462 non-null   object \n",
      " 31  W462FE    3462 non-null   float64\n",
      " 32  e.W462FE  3462 non-null   float64\n",
      " 33  W485FD    3462 non-null   float64\n",
      " 34  e.W485FD  3462 non-null   float64\n",
      " 35  W518FE    3462 non-null   float64\n",
      " 36  e.W518FE  3462 non-null   float64\n",
      " 37  W571FS    3462 non-null   float64\n",
      " 38  e.W571FS  3462 non-null   float64\n",
      " 39  W604FE    3462 non-null   float64\n",
      " 40  e.W604FE  3462 non-null   float64\n",
      " 41  W646FD    3462 non-null   float64\n",
      " 42  e.W646FD  3462 non-null   float64\n",
      " 43  W696FE    3462 non-null   float64\n",
      " 44  e.W696FE  3462 non-null   float64\n",
      " 45  W753FE    3462 non-null   float64\n",
      " 46  e.W753FE  3462 non-null   float64\n",
      " 47  W815FS    3462 non-null   float64\n",
      " 48  e.W815FS  3462 non-null   float64\n",
      " 49  W856FD    3462 non-null   float64\n",
      " 50  e.W856FD  3462 non-null   float64\n",
      " 51  W914FD    3462 non-null   float64\n",
      " 52  e.W914FD  3462 non-null   float64\n",
      " 53  W914FE    3462 non-null   float64\n",
      " 54  e.W914FE  3462 non-null   float64\n",
      " 55  UFS       3462 non-null   float64\n",
      " 56  e.UFS     3462 non-null   float64\n",
      " 57  BFS       3462 non-null   float64\n",
      " 58  e.BFS     3462 non-null   float64\n",
      " 59  VFD       3462 non-null   float64\n",
      " 60  e.VFD     3462 non-null   float64\n",
      " 61  RFS       3462 non-null   float64\n",
      " 62  e.RFS     3462 non-null   float64\n",
      " 63  IFD       3462 non-null   float64\n",
      " 64  e.IFD     3462 non-null   float64\n",
      "dtypes: float64(63), int64(1), object(1)\n",
      "memory usage: 1.7+ MB\n"
     ]
    }
   ],
   "source": [
    "galaxies.info()"
   ]
  },
  {
   "cell_type": "code",
   "execution_count": 12,
   "metadata": {
    "hidden": true
   },
   "outputs": [],
   "source": [
    "galaxies = galaxies.dropna()"
   ]
  },
  {
   "cell_type": "markdown",
   "metadata": {
    "hidden": true
   },
   "source": [
    "Let's collect together the columns that have high correlation with Mcz, our target:"
   ]
  },
  {
   "cell_type": "code",
   "execution_count": 13,
   "metadata": {
    "hidden": true
   },
   "outputs": [],
   "source": [
    "preds = []\n",
    "for ind in galaxies.corr()['Mcz'].index:\n",
    "    if abs(galaxies.corr()['Mcz'][ind]) > 0.5:\n",
    "        preds.append(ind)"
   ]
  },
  {
   "cell_type": "code",
   "execution_count": 14,
   "metadata": {},
   "outputs": [
    {
     "data": {
      "text/html": [
       "<div>\n",
       "<style scoped>\n",
       "    .dataframe tbody tr th:only-of-type {\n",
       "        vertical-align: middle;\n",
       "    }\n",
       "\n",
       "    .dataframe tbody tr th {\n",
       "        vertical-align: top;\n",
       "    }\n",
       "\n",
       "    .dataframe thead th {\n",
       "        text-align: right;\n",
       "    }\n",
       "</style>\n",
       "<table border=\"1\" class=\"dataframe\">\n",
       "  <thead>\n",
       "    <tr style=\"text-align: right;\">\n",
       "      <th></th>\n",
       "      <th>Nr</th>\n",
       "      <th>Rmag</th>\n",
       "      <th>e.Rmag</th>\n",
       "      <th>ApDRmag</th>\n",
       "      <th>mumax</th>\n",
       "      <th>Mcz</th>\n",
       "      <th>e.Mcz</th>\n",
       "      <th>MCzml</th>\n",
       "      <th>chi2red</th>\n",
       "      <th>UjMAG</th>\n",
       "      <th>...</th>\n",
       "      <th>UFS</th>\n",
       "      <th>e.UFS</th>\n",
       "      <th>BFS</th>\n",
       "      <th>e.BFS</th>\n",
       "      <th>VFD</th>\n",
       "      <th>e.VFD</th>\n",
       "      <th>RFS</th>\n",
       "      <th>e.RFS</th>\n",
       "      <th>IFD</th>\n",
       "      <th>e.IFD</th>\n",
       "    </tr>\n",
       "  </thead>\n",
       "  <tbody>\n",
       "    <tr>\n",
       "      <th>Nr</th>\n",
       "      <td>1.000000</td>\n",
       "      <td>-0.005210</td>\n",
       "      <td>-0.007680</td>\n",
       "      <td>0.015953</td>\n",
       "      <td>-0.003774</td>\n",
       "      <td>0.006878</td>\n",
       "      <td>-0.002385</td>\n",
       "      <td>0.025835</td>\n",
       "      <td>-0.052092</td>\n",
       "      <td>-0.015072</td>\n",
       "      <td>...</td>\n",
       "      <td>0.000132</td>\n",
       "      <td>-0.012677</td>\n",
       "      <td>-0.004281</td>\n",
       "      <td>0.028188</td>\n",
       "      <td>-0.009254</td>\n",
       "      <td>-0.034176</td>\n",
       "      <td>-0.007802</td>\n",
       "      <td>-0.020076</td>\n",
       "      <td>-0.007046</td>\n",
       "      <td>-0.015396</td>\n",
       "    </tr>\n",
       "    <tr>\n",
       "      <th>Rmag</th>\n",
       "      <td>-0.005210</td>\n",
       "      <td>1.000000</td>\n",
       "      <td>0.860248</td>\n",
       "      <td>0.682817</td>\n",
       "      <td>0.932250</td>\n",
       "      <td>0.415197</td>\n",
       "      <td>0.565422</td>\n",
       "      <td>0.431953</td>\n",
       "      <td>0.150438</td>\n",
       "      <td>0.312837</td>\n",
       "      <td>...</td>\n",
       "      <td>-0.598822</td>\n",
       "      <td>-0.250884</td>\n",
       "      <td>-0.524007</td>\n",
       "      <td>-0.396827</td>\n",
       "      <td>-0.472032</td>\n",
       "      <td>-0.358315</td>\n",
       "      <td>-0.473128</td>\n",
       "      <td>-0.377661</td>\n",
       "      <td>-0.471239</td>\n",
       "      <td>-0.323251</td>\n",
       "    </tr>\n",
       "    <tr>\n",
       "      <th>e.Rmag</th>\n",
       "      <td>-0.007680</td>\n",
       "      <td>0.860248</td>\n",
       "      <td>1.000000</td>\n",
       "      <td>0.529213</td>\n",
       "      <td>0.804649</td>\n",
       "      <td>0.352610</td>\n",
       "      <td>0.527505</td>\n",
       "      <td>0.384330</td>\n",
       "      <td>0.219683</td>\n",
       "      <td>0.286669</td>\n",
       "      <td>...</td>\n",
       "      <td>-0.369064</td>\n",
       "      <td>-0.163352</td>\n",
       "      <td>-0.268880</td>\n",
       "      <td>-0.186995</td>\n",
       "      <td>-0.220396</td>\n",
       "      <td>-0.146331</td>\n",
       "      <td>-0.220135</td>\n",
       "      <td>-0.158715</td>\n",
       "      <td>-0.221393</td>\n",
       "      <td>-0.130967</td>\n",
       "    </tr>\n",
       "    <tr>\n",
       "      <th>ApDRmag</th>\n",
       "      <td>0.015953</td>\n",
       "      <td>0.682817</td>\n",
       "      <td>0.529213</td>\n",
       "      <td>1.000000</td>\n",
       "      <td>0.436047</td>\n",
       "      <td>0.192896</td>\n",
       "      <td>0.254642</td>\n",
       "      <td>0.189870</td>\n",
       "      <td>0.112423</td>\n",
       "      <td>0.306930</td>\n",
       "      <td>...</td>\n",
       "      <td>-0.257780</td>\n",
       "      <td>-0.124889</td>\n",
       "      <td>-0.237142</td>\n",
       "      <td>-0.191428</td>\n",
       "      <td>-0.214856</td>\n",
       "      <td>-0.175414</td>\n",
       "      <td>-0.219341</td>\n",
       "      <td>-0.184273</td>\n",
       "      <td>-0.221942</td>\n",
       "      <td>-0.165973</td>\n",
       "    </tr>\n",
       "    <tr>\n",
       "      <th>mumax</th>\n",
       "      <td>-0.003774</td>\n",
       "      <td>0.932250</td>\n",
       "      <td>0.804649</td>\n",
       "      <td>0.436047</td>\n",
       "      <td>1.000000</td>\n",
       "      <td>0.434001</td>\n",
       "      <td>0.577577</td>\n",
       "      <td>0.449315</td>\n",
       "      <td>0.113127</td>\n",
       "      <td>0.239650</td>\n",
       "      <td>...</td>\n",
       "      <td>-0.648348</td>\n",
       "      <td>-0.269754</td>\n",
       "      <td>-0.573801</td>\n",
       "      <td>-0.434571</td>\n",
       "      <td>-0.522029</td>\n",
       "      <td>-0.394071</td>\n",
       "      <td>-0.522072</td>\n",
       "      <td>-0.418112</td>\n",
       "      <td>-0.519138</td>\n",
       "      <td>-0.352968</td>\n",
       "    </tr>\n",
       "    <tr>\n",
       "      <th>...</th>\n",
       "      <td>...</td>\n",
       "      <td>...</td>\n",
       "      <td>...</td>\n",
       "      <td>...</td>\n",
       "      <td>...</td>\n",
       "      <td>...</td>\n",
       "      <td>...</td>\n",
       "      <td>...</td>\n",
       "      <td>...</td>\n",
       "      <td>...</td>\n",
       "      <td>...</td>\n",
       "      <td>...</td>\n",
       "      <td>...</td>\n",
       "      <td>...</td>\n",
       "      <td>...</td>\n",
       "      <td>...</td>\n",
       "      <td>...</td>\n",
       "      <td>...</td>\n",
       "      <td>...</td>\n",
       "      <td>...</td>\n",
       "      <td>...</td>\n",
       "    </tr>\n",
       "    <tr>\n",
       "      <th>e.VFD</th>\n",
       "      <td>-0.034176</td>\n",
       "      <td>-0.358315</td>\n",
       "      <td>-0.146331</td>\n",
       "      <td>-0.175414</td>\n",
       "      <td>-0.394071</td>\n",
       "      <td>-0.152255</td>\n",
       "      <td>-0.129053</td>\n",
       "      <td>-0.150809</td>\n",
       "      <td>-0.006387</td>\n",
       "      <td>-0.075088</td>\n",
       "      <td>...</td>\n",
       "      <td>0.716257</td>\n",
       "      <td>0.353686</td>\n",
       "      <td>0.846081</td>\n",
       "      <td>0.794005</td>\n",
       "      <td>0.857268</td>\n",
       "      <td>1.000000</td>\n",
       "      <td>0.851001</td>\n",
       "      <td>0.868680</td>\n",
       "      <td>0.839795</td>\n",
       "      <td>0.798409</td>\n",
       "    </tr>\n",
       "    <tr>\n",
       "      <th>RFS</th>\n",
       "      <td>-0.007802</td>\n",
       "      <td>-0.473128</td>\n",
       "      <td>-0.220135</td>\n",
       "      <td>-0.219341</td>\n",
       "      <td>-0.522072</td>\n",
       "      <td>-0.210857</td>\n",
       "      <td>-0.204624</td>\n",
       "      <td>-0.200020</td>\n",
       "      <td>0.015149</td>\n",
       "      <td>-0.095700</td>\n",
       "      <td>...</td>\n",
       "      <td>0.792701</td>\n",
       "      <td>0.253880</td>\n",
       "      <td>0.956095</td>\n",
       "      <td>0.802324</td>\n",
       "      <td>0.993831</td>\n",
       "      <td>0.851001</td>\n",
       "      <td>1.000000</td>\n",
       "      <td>0.918868</td>\n",
       "      <td>0.994699</td>\n",
       "      <td>0.832182</td>\n",
       "    </tr>\n",
       "    <tr>\n",
       "      <th>e.RFS</th>\n",
       "      <td>-0.020076</td>\n",
       "      <td>-0.377661</td>\n",
       "      <td>-0.158715</td>\n",
       "      <td>-0.184273</td>\n",
       "      <td>-0.418112</td>\n",
       "      <td>-0.162231</td>\n",
       "      <td>-0.138586</td>\n",
       "      <td>-0.151746</td>\n",
       "      <td>0.021924</td>\n",
       "      <td>-0.077262</td>\n",
       "      <td>...</td>\n",
       "      <td>0.723229</td>\n",
       "      <td>0.375643</td>\n",
       "      <td>0.880599</td>\n",
       "      <td>0.836929</td>\n",
       "      <td>0.912540</td>\n",
       "      <td>0.868680</td>\n",
       "      <td>0.918868</td>\n",
       "      <td>1.000000</td>\n",
       "      <td>0.910716</td>\n",
       "      <td>0.859191</td>\n",
       "    </tr>\n",
       "    <tr>\n",
       "      <th>IFD</th>\n",
       "      <td>-0.007046</td>\n",
       "      <td>-0.471239</td>\n",
       "      <td>-0.221393</td>\n",
       "      <td>-0.221942</td>\n",
       "      <td>-0.519138</td>\n",
       "      <td>-0.180216</td>\n",
       "      <td>-0.201880</td>\n",
       "      <td>-0.172369</td>\n",
       "      <td>0.013471</td>\n",
       "      <td>-0.127278</td>\n",
       "      <td>...</td>\n",
       "      <td>0.751873</td>\n",
       "      <td>0.240367</td>\n",
       "      <td>0.931672</td>\n",
       "      <td>0.781816</td>\n",
       "      <td>0.980213</td>\n",
       "      <td>0.839795</td>\n",
       "      <td>0.994699</td>\n",
       "      <td>0.910716</td>\n",
       "      <td>1.000000</td>\n",
       "      <td>0.831198</td>\n",
       "    </tr>\n",
       "    <tr>\n",
       "      <th>e.IFD</th>\n",
       "      <td>-0.015396</td>\n",
       "      <td>-0.323251</td>\n",
       "      <td>-0.130967</td>\n",
       "      <td>-0.165973</td>\n",
       "      <td>-0.352968</td>\n",
       "      <td>-0.121261</td>\n",
       "      <td>-0.101767</td>\n",
       "      <td>-0.108344</td>\n",
       "      <td>0.001258</td>\n",
       "      <td>-0.086867</td>\n",
       "      <td>...</td>\n",
       "      <td>0.625994</td>\n",
       "      <td>0.359885</td>\n",
       "      <td>0.790266</td>\n",
       "      <td>0.748086</td>\n",
       "      <td>0.826214</td>\n",
       "      <td>0.798409</td>\n",
       "      <td>0.832182</td>\n",
       "      <td>0.859191</td>\n",
       "      <td>0.831198</td>\n",
       "      <td>1.000000</td>\n",
       "    </tr>\n",
       "  </tbody>\n",
       "</table>\n",
       "<p>64 rows × 64 columns</p>\n",
       "</div>"
      ],
      "text/plain": [
       "               Nr      Rmag    e.Rmag   ApDRmag     mumax       Mcz     e.Mcz  \\\n",
       "Nr       1.000000 -0.005210 -0.007680  0.015953 -0.003774  0.006878 -0.002385   \n",
       "Rmag    -0.005210  1.000000  0.860248  0.682817  0.932250  0.415197  0.565422   \n",
       "e.Rmag  -0.007680  0.860248  1.000000  0.529213  0.804649  0.352610  0.527505   \n",
       "ApDRmag  0.015953  0.682817  0.529213  1.000000  0.436047  0.192896  0.254642   \n",
       "mumax   -0.003774  0.932250  0.804649  0.436047  1.000000  0.434001  0.577577   \n",
       "...           ...       ...       ...       ...       ...       ...       ...   \n",
       "e.VFD   -0.034176 -0.358315 -0.146331 -0.175414 -0.394071 -0.152255 -0.129053   \n",
       "RFS     -0.007802 -0.473128 -0.220135 -0.219341 -0.522072 -0.210857 -0.204624   \n",
       "e.RFS   -0.020076 -0.377661 -0.158715 -0.184273 -0.418112 -0.162231 -0.138586   \n",
       "IFD     -0.007046 -0.471239 -0.221393 -0.221942 -0.519138 -0.180216 -0.201880   \n",
       "e.IFD   -0.015396 -0.323251 -0.130967 -0.165973 -0.352968 -0.121261 -0.101767   \n",
       "\n",
       "            MCzml   chi2red     UjMAG  ...       UFS     e.UFS       BFS  \\\n",
       "Nr       0.025835 -0.052092 -0.015072  ...  0.000132 -0.012677 -0.004281   \n",
       "Rmag     0.431953  0.150438  0.312837  ... -0.598822 -0.250884 -0.524007   \n",
       "e.Rmag   0.384330  0.219683  0.286669  ... -0.369064 -0.163352 -0.268880   \n",
       "ApDRmag  0.189870  0.112423  0.306930  ... -0.257780 -0.124889 -0.237142   \n",
       "mumax    0.449315  0.113127  0.239650  ... -0.648348 -0.269754 -0.573801   \n",
       "...           ...       ...       ...  ...       ...       ...       ...   \n",
       "e.VFD   -0.150809 -0.006387 -0.075088  ...  0.716257  0.353686  0.846081   \n",
       "RFS     -0.200020  0.015149 -0.095700  ...  0.792701  0.253880  0.956095   \n",
       "e.RFS   -0.151746  0.021924 -0.077262  ...  0.723229  0.375643  0.880599   \n",
       "IFD     -0.172369  0.013471 -0.127278  ...  0.751873  0.240367  0.931672   \n",
       "e.IFD   -0.108344  0.001258 -0.086867  ...  0.625994  0.359885  0.790266   \n",
       "\n",
       "            e.BFS       VFD     e.VFD       RFS     e.RFS       IFD     e.IFD  \n",
       "Nr       0.028188 -0.009254 -0.034176 -0.007802 -0.020076 -0.007046 -0.015396  \n",
       "Rmag    -0.396827 -0.472032 -0.358315 -0.473128 -0.377661 -0.471239 -0.323251  \n",
       "e.Rmag  -0.186995 -0.220396 -0.146331 -0.220135 -0.158715 -0.221393 -0.130967  \n",
       "ApDRmag -0.191428 -0.214856 -0.175414 -0.219341 -0.184273 -0.221942 -0.165973  \n",
       "mumax   -0.434571 -0.522029 -0.394071 -0.522072 -0.418112 -0.519138 -0.352968  \n",
       "...           ...       ...       ...       ...       ...       ...       ...  \n",
       "e.VFD    0.794005  0.857268  1.000000  0.851001  0.868680  0.839795  0.798409  \n",
       "RFS      0.802324  0.993831  0.851001  1.000000  0.918868  0.994699  0.832182  \n",
       "e.RFS    0.836929  0.912540  0.868680  0.918868  1.000000  0.910716  0.859191  \n",
       "IFD      0.781816  0.980213  0.839795  0.994699  0.910716  1.000000  0.831198  \n",
       "e.IFD    0.748086  0.826214  0.798409  0.832182  0.859191  0.831198  1.000000  \n",
       "\n",
       "[64 rows x 64 columns]"
      ]
     },
     "execution_count": 14,
     "metadata": {},
     "output_type": "execute_result"
    }
   ],
   "source": [
    "galaxies.corr()"
   ]
  },
  {
   "cell_type": "code",
   "execution_count": 15,
   "metadata": {
    "hidden": true,
    "scrolled": true
   },
   "outputs": [
    {
     "data": {
      "text/html": [
       "<div>\n",
       "<style scoped>\n",
       "    .dataframe tbody tr th:only-of-type {\n",
       "        vertical-align: middle;\n",
       "    }\n",
       "\n",
       "    .dataframe tbody tr th {\n",
       "        vertical-align: top;\n",
       "    }\n",
       "\n",
       "    .dataframe thead th {\n",
       "        text-align: right;\n",
       "    }\n",
       "</style>\n",
       "<table border=\"1\" class=\"dataframe\">\n",
       "  <thead>\n",
       "    <tr style=\"text-align: right;\">\n",
       "      <th></th>\n",
       "      <th>Mcz</th>\n",
       "      <th>e.Mcz</th>\n",
       "      <th>MCzml</th>\n",
       "      <th>UjMAG</th>\n",
       "      <th>BjMAG</th>\n",
       "      <th>VjMAG</th>\n",
       "      <th>usMAG</th>\n",
       "      <th>gsMAG</th>\n",
       "      <th>rsMAG</th>\n",
       "      <th>UbMAG</th>\n",
       "      <th>BbMAG</th>\n",
       "      <th>VnMAG</th>\n",
       "      <th>S280MAG</th>\n",
       "    </tr>\n",
       "  </thead>\n",
       "  <tbody>\n",
       "    <tr>\n",
       "      <th>Mcz</th>\n",
       "      <td>1.000000</td>\n",
       "      <td>0.613071</td>\n",
       "      <td>0.872016</td>\n",
       "      <td>-0.699550</td>\n",
       "      <td>-0.628226</td>\n",
       "      <td>-0.641983</td>\n",
       "      <td>-0.698304</td>\n",
       "      <td>-0.652170</td>\n",
       "      <td>-0.631398</td>\n",
       "      <td>-0.699731</td>\n",
       "      <td>-0.659506</td>\n",
       "      <td>-0.641870</td>\n",
       "      <td>-0.700453</td>\n",
       "    </tr>\n",
       "    <tr>\n",
       "      <th>e.Mcz</th>\n",
       "      <td>0.613071</td>\n",
       "      <td>1.000000</td>\n",
       "      <td>0.590179</td>\n",
       "      <td>-0.170296</td>\n",
       "      <td>-0.122309</td>\n",
       "      <td>-0.122616</td>\n",
       "      <td>-0.168326</td>\n",
       "      <td>-0.126491</td>\n",
       "      <td>-0.114022</td>\n",
       "      <td>-0.170208</td>\n",
       "      <td>-0.130680</td>\n",
       "      <td>-0.122546</td>\n",
       "      <td>-0.169344</td>\n",
       "    </tr>\n",
       "    <tr>\n",
       "      <th>MCzml</th>\n",
       "      <td>0.872016</td>\n",
       "      <td>0.590179</td>\n",
       "      <td>1.000000</td>\n",
       "      <td>-0.565663</td>\n",
       "      <td>-0.520006</td>\n",
       "      <td>-0.532880</td>\n",
       "      <td>-0.563591</td>\n",
       "      <td>-0.536750</td>\n",
       "      <td>-0.525495</td>\n",
       "      <td>-0.565406</td>\n",
       "      <td>-0.544325</td>\n",
       "      <td>-0.532837</td>\n",
       "      <td>-0.562474</td>\n",
       "    </tr>\n",
       "    <tr>\n",
       "      <th>UjMAG</th>\n",
       "      <td>-0.699550</td>\n",
       "      <td>-0.170296</td>\n",
       "      <td>-0.565663</td>\n",
       "      <td>1.000000</td>\n",
       "      <td>0.933252</td>\n",
       "      <td>0.961088</td>\n",
       "      <td>0.999865</td>\n",
       "      <td>0.970124</td>\n",
       "      <td>0.954853</td>\n",
       "      <td>0.999986</td>\n",
       "      <td>0.975476</td>\n",
       "      <td>0.960981</td>\n",
       "      <td>0.963415</td>\n",
       "    </tr>\n",
       "    <tr>\n",
       "      <th>BjMAG</th>\n",
       "      <td>-0.628226</td>\n",
       "      <td>-0.122309</td>\n",
       "      <td>-0.520006</td>\n",
       "      <td>0.933252</td>\n",
       "      <td>1.000000</td>\n",
       "      <td>0.950728</td>\n",
       "      <td>0.932328</td>\n",
       "      <td>0.954006</td>\n",
       "      <td>0.947597</td>\n",
       "      <td>0.932831</td>\n",
       "      <td>0.957836</td>\n",
       "      <td>0.950694</td>\n",
       "      <td>0.885382</td>\n",
       "    </tr>\n",
       "    <tr>\n",
       "      <th>VjMAG</th>\n",
       "      <td>-0.641983</td>\n",
       "      <td>-0.122616</td>\n",
       "      <td>-0.532880</td>\n",
       "      <td>0.961088</td>\n",
       "      <td>0.950728</td>\n",
       "      <td>1.000000</td>\n",
       "      <td>0.959432</td>\n",
       "      <td>0.997956</td>\n",
       "      <td>0.999324</td>\n",
       "      <td>0.960265</td>\n",
       "      <td>0.992178</td>\n",
       "      <td>0.999997</td>\n",
       "      <td>0.894171</td>\n",
       "    </tr>\n",
       "    <tr>\n",
       "      <th>usMAG</th>\n",
       "      <td>-0.698304</td>\n",
       "      <td>-0.168326</td>\n",
       "      <td>-0.563591</td>\n",
       "      <td>0.999865</td>\n",
       "      <td>0.932328</td>\n",
       "      <td>0.959432</td>\n",
       "      <td>1.000000</td>\n",
       "      <td>0.968971</td>\n",
       "      <td>0.953027</td>\n",
       "      <td>0.999903</td>\n",
       "      <td>0.974515</td>\n",
       "      <td>0.959320</td>\n",
       "      <td>0.964972</td>\n",
       "    </tr>\n",
       "    <tr>\n",
       "      <th>gsMAG</th>\n",
       "      <td>-0.652170</td>\n",
       "      <td>-0.126491</td>\n",
       "      <td>-0.536750</td>\n",
       "      <td>0.970124</td>\n",
       "      <td>0.954006</td>\n",
       "      <td>0.997956</td>\n",
       "      <td>0.968971</td>\n",
       "      <td>1.000000</td>\n",
       "      <td>0.995436</td>\n",
       "      <td>0.969562</td>\n",
       "      <td>0.995887</td>\n",
       "      <td>0.997923</td>\n",
       "      <td>0.914118</td>\n",
       "    </tr>\n",
       "    <tr>\n",
       "      <th>rsMAG</th>\n",
       "      <td>-0.631398</td>\n",
       "      <td>-0.114022</td>\n",
       "      <td>-0.525495</td>\n",
       "      <td>0.954853</td>\n",
       "      <td>0.947597</td>\n",
       "      <td>0.999324</td>\n",
       "      <td>0.953027</td>\n",
       "      <td>0.995436</td>\n",
       "      <td>1.000000</td>\n",
       "      <td>0.953909</td>\n",
       "      <td>0.988695</td>\n",
       "      <td>0.999341</td>\n",
       "      <td>0.882782</td>\n",
       "    </tr>\n",
       "    <tr>\n",
       "      <th>UbMAG</th>\n",
       "      <td>-0.699731</td>\n",
       "      <td>-0.170208</td>\n",
       "      <td>-0.565406</td>\n",
       "      <td>0.999986</td>\n",
       "      <td>0.932831</td>\n",
       "      <td>0.960265</td>\n",
       "      <td>0.999903</td>\n",
       "      <td>0.969562</td>\n",
       "      <td>0.953909</td>\n",
       "      <td>1.000000</td>\n",
       "      <td>0.975035</td>\n",
       "      <td>0.960155</td>\n",
       "      <td>0.964189</td>\n",
       "    </tr>\n",
       "    <tr>\n",
       "      <th>BbMAG</th>\n",
       "      <td>-0.659506</td>\n",
       "      <td>-0.130680</td>\n",
       "      <td>-0.544325</td>\n",
       "      <td>0.975476</td>\n",
       "      <td>0.957836</td>\n",
       "      <td>0.992178</td>\n",
       "      <td>0.974515</td>\n",
       "      <td>0.995887</td>\n",
       "      <td>0.988695</td>\n",
       "      <td>0.975035</td>\n",
       "      <td>1.000000</td>\n",
       "      <td>0.992127</td>\n",
       "      <td>0.925047</td>\n",
       "    </tr>\n",
       "    <tr>\n",
       "      <th>VnMAG</th>\n",
       "      <td>-0.641870</td>\n",
       "      <td>-0.122546</td>\n",
       "      <td>-0.532837</td>\n",
       "      <td>0.960981</td>\n",
       "      <td>0.950694</td>\n",
       "      <td>0.999997</td>\n",
       "      <td>0.959320</td>\n",
       "      <td>0.997923</td>\n",
       "      <td>0.999341</td>\n",
       "      <td>0.960155</td>\n",
       "      <td>0.992127</td>\n",
       "      <td>1.000000</td>\n",
       "      <td>0.893972</td>\n",
       "    </tr>\n",
       "    <tr>\n",
       "      <th>S280MAG</th>\n",
       "      <td>-0.700453</td>\n",
       "      <td>-0.169344</td>\n",
       "      <td>-0.562474</td>\n",
       "      <td>0.963415</td>\n",
       "      <td>0.885382</td>\n",
       "      <td>0.894171</td>\n",
       "      <td>0.964972</td>\n",
       "      <td>0.914118</td>\n",
       "      <td>0.882782</td>\n",
       "      <td>0.964189</td>\n",
       "      <td>0.925047</td>\n",
       "      <td>0.893972</td>\n",
       "      <td>1.000000</td>\n",
       "    </tr>\n",
       "  </tbody>\n",
       "</table>\n",
       "</div>"
      ],
      "text/plain": [
       "              Mcz     e.Mcz     MCzml     UjMAG     BjMAG     VjMAG     usMAG  \\\n",
       "Mcz      1.000000  0.613071  0.872016 -0.699550 -0.628226 -0.641983 -0.698304   \n",
       "e.Mcz    0.613071  1.000000  0.590179 -0.170296 -0.122309 -0.122616 -0.168326   \n",
       "MCzml    0.872016  0.590179  1.000000 -0.565663 -0.520006 -0.532880 -0.563591   \n",
       "UjMAG   -0.699550 -0.170296 -0.565663  1.000000  0.933252  0.961088  0.999865   \n",
       "BjMAG   -0.628226 -0.122309 -0.520006  0.933252  1.000000  0.950728  0.932328   \n",
       "VjMAG   -0.641983 -0.122616 -0.532880  0.961088  0.950728  1.000000  0.959432   \n",
       "usMAG   -0.698304 -0.168326 -0.563591  0.999865  0.932328  0.959432  1.000000   \n",
       "gsMAG   -0.652170 -0.126491 -0.536750  0.970124  0.954006  0.997956  0.968971   \n",
       "rsMAG   -0.631398 -0.114022 -0.525495  0.954853  0.947597  0.999324  0.953027   \n",
       "UbMAG   -0.699731 -0.170208 -0.565406  0.999986  0.932831  0.960265  0.999903   \n",
       "BbMAG   -0.659506 -0.130680 -0.544325  0.975476  0.957836  0.992178  0.974515   \n",
       "VnMAG   -0.641870 -0.122546 -0.532837  0.960981  0.950694  0.999997  0.959320   \n",
       "S280MAG -0.700453 -0.169344 -0.562474  0.963415  0.885382  0.894171  0.964972   \n",
       "\n",
       "            gsMAG     rsMAG     UbMAG     BbMAG     VnMAG   S280MAG  \n",
       "Mcz     -0.652170 -0.631398 -0.699731 -0.659506 -0.641870 -0.700453  \n",
       "e.Mcz   -0.126491 -0.114022 -0.170208 -0.130680 -0.122546 -0.169344  \n",
       "MCzml   -0.536750 -0.525495 -0.565406 -0.544325 -0.532837 -0.562474  \n",
       "UjMAG    0.970124  0.954853  0.999986  0.975476  0.960981  0.963415  \n",
       "BjMAG    0.954006  0.947597  0.932831  0.957836  0.950694  0.885382  \n",
       "VjMAG    0.997956  0.999324  0.960265  0.992178  0.999997  0.894171  \n",
       "usMAG    0.968971  0.953027  0.999903  0.974515  0.959320  0.964972  \n",
       "gsMAG    1.000000  0.995436  0.969562  0.995887  0.997923  0.914118  \n",
       "rsMAG    0.995436  1.000000  0.953909  0.988695  0.999341  0.882782  \n",
       "UbMAG    0.969562  0.953909  1.000000  0.975035  0.960155  0.964189  \n",
       "BbMAG    0.995887  0.988695  0.975035  1.000000  0.992127  0.925047  \n",
       "VnMAG    0.997923  0.999341  0.960155  0.992127  1.000000  0.893972  \n",
       "S280MAG  0.914118  0.882782  0.964189  0.925047  0.893972  1.000000  "
      ]
     },
     "execution_count": 15,
     "metadata": {},
     "output_type": "execute_result"
    }
   ],
   "source": [
    "galaxies[preds].corr()"
   ]
  },
  {
   "cell_type": "markdown",
   "metadata": {
    "hidden": true
   },
   "source": [
    "These various magnitude columns all have high correlations **with one another**! Let's try a simple model with just the S280MAG column, since it has the highest correlation with Mcz."
   ]
  },
  {
   "cell_type": "code",
   "execution_count": 16,
   "metadata": {
    "hidden": true
   },
   "outputs": [],
   "source": [
    "galaxies_x = galaxies['S280MAG']\n",
    "galaxies_y = galaxies['Mcz']"
   ]
  },
  {
   "cell_type": "code",
   "execution_count": 17,
   "metadata": {
    "scrolled": true
   },
   "outputs": [
    {
     "data": {
      "text/plain": [
       "0      -18.22\n",
       "1      -17.97\n",
       "2      -19.77\n",
       "3      -18.12\n",
       "4      -13.93\n",
       "        ...  \n",
       "3457   -18.29\n",
       "3458   -20.62\n",
       "3459   -19.44\n",
       "3460   -20.10\n",
       "3461   -17.71\n",
       "Name: S280MAG, Length: 3438, dtype: float64"
      ]
     },
     "execution_count": 17,
     "metadata": {},
     "output_type": "execute_result"
    }
   ],
   "source": [
    "galaxies_x"
   ]
  },
  {
   "cell_type": "markdown",
   "metadata": {
    "hidden": true
   },
   "source": [
    "Since we only have one predictor, we can visualize the correlation with the target! We can also reshape it for modeling purposes!"
   ]
  },
  {
   "cell_type": "code",
   "execution_count": 18,
   "metadata": {
    "hidden": true
   },
   "outputs": [],
   "source": [
    "galaxies_x_rev = galaxies_x.values.reshape(-1, 1)"
   ]
  },
  {
   "cell_type": "code",
   "execution_count": 19,
   "metadata": {},
   "outputs": [
    {
     "data": {
      "text/plain": [
       "array([[-18.22],\n",
       "       [-17.97],\n",
       "       [-19.77],\n",
       "       ...,\n",
       "       [-19.44],\n",
       "       [-20.1 ],\n",
       "       [-17.71]])"
      ]
     },
     "execution_count": 19,
     "metadata": {},
     "output_type": "execute_result"
    }
   ],
   "source": [
    "galaxies_x_rev"
   ]
  },
  {
   "cell_type": "code",
   "execution_count": 20,
   "metadata": {
    "hidden": true
   },
   "outputs": [
    {
     "data": {
      "image/png": "[encoded data removed]",
      "text/plain": [
       "<Figure size 432x288 with 1 Axes>"
      ]
     },
     "metadata": {
      "needs_background": "light"
     },
     "output_type": "display_data"
    }
   ],
   "source": [
    "fig, ax = plt.subplots()\n",
    "\n",
    "ax.scatter(galaxies_x_rev, galaxies_y, alpha=0.1);"
   ]
  },
  {
   "cell_type": "code",
   "execution_count": 21,
   "metadata": {
    "hidden": true
   },
   "outputs": [],
   "source": [
    "galaxies_x_train, galaxies_x_test, galaxies_y_train, galaxies_y_test =\\\n",
    "train_test_split(galaxies_x_rev, galaxies_y, random_state=42)"
   ]
  },
  {
   "cell_type": "code",
   "execution_count": 22,
   "metadata": {
    "hidden": true
   },
   "outputs": [
    {
     "data": {
      "text/plain": [
       "AdaBoostRegressor(random_state=42)"
      ]
     },
     "execution_count": 22,
     "metadata": {},
     "output_type": "execute_result"
    }
   ],
   "source": [
    "abr = AdaBoostRegressor(random_state=42)\n",
    "\n",
    "abr.fit(galaxies_x_train, galaxies_y_train)"
   ]
  },
  {
   "cell_type": "code",
   "execution_count": 23,
   "metadata": {},
   "outputs": [
    {
     "data": {
      "text/plain": [
       "0.5092939137096737"
      ]
     },
     "execution_count": 23,
     "metadata": {},
     "output_type": "execute_result"
    }
   ],
   "source": [
    "abr.score(galaxies_x_train, galaxies_y_train)"
   ]
  },
  {
   "cell_type": "code",
   "execution_count": 24,
   "metadata": {
    "hidden": true
   },
   "outputs": [
    {
     "data": {
      "text/plain": [
       "array([0.48891095, 0.42071752, 0.53158551, 0.51183824, 0.44177733])"
      ]
     },
     "execution_count": 24,
     "metadata": {},
     "output_type": "execute_result"
    }
   ],
   "source": [
    "cross_val_score(abr, galaxies_x_train, galaxies_y_train, cv=5)"
   ]
  },
  {
   "cell_type": "markdown",
   "metadata": {
    "heading_collapsed": true,
    "hidden": true
   },
   "source": [
    "#### Hyperparameter Tuning"
   ]
  },
  {
   "cell_type": "markdown",
   "metadata": {
    "hidden": true
   },
   "source": [
    "Let's see if we can do better by trying different hyperparameter values:"
   ]
  },
  {
   "cell_type": "code",
   "execution_count": 25,
   "metadata": {
    "hidden": true
   },
   "outputs": [],
   "source": [
    "gs = GridSearchCV(estimator=abr,\n",
    "                 param_grid={\n",
    "                     'n_estimators': [25, 50, 100],\n",
    "                     'loss': ['linear', 'square']\n",
    "                 }, cv=5, verbose=3, n_jobs=-3)"
   ]
  },
  {
   "cell_type": "code",
   "execution_count": 26,
   "metadata": {
    "hidden": true,
    "scrolled": true
   },
   "outputs": [
    {
     "name": "stdout",
     "output_type": "stream",
     "text": [
      "Fitting 5 folds for each of 6 candidates, totalling 30 fits\n"
     ]
    },
    {
     "name": "stderr",
     "output_type": "stream",
     "text": [
      "[Parallel(n_jobs=-3)]: Using backend LokyBackend with 14 concurrent workers.\n",
      "[Parallel(n_jobs=-3)]: Done  14 out of  30 | elapsed:    1.6s remaining:    1.8s\n",
      "[Parallel(n_jobs=-3)]: Done  25 out of  30 | elapsed:    1.7s remaining:    0.3s\n",
      "[Parallel(n_jobs=-3)]: Done  30 out of  30 | elapsed:    1.8s finished\n"
     ]
    },
    {
     "data": {
      "text/plain": [
       "GridSearchCV(cv=5, estimator=AdaBoostRegressor(random_state=42), n_jobs=-3,\n",
       "             param_grid={'loss': ['linear', 'square'],\n",
       "                         'n_estimators': [25, 50, 100]},\n",
       "             verbose=3)"
      ]
     },
     "execution_count": 26,
     "metadata": {},
     "output_type": "execute_result"
    }
   ],
   "source": [
    "gs.fit(galaxies_x_train, galaxies_y_train)"
   ]
  },
  {
   "cell_type": "code",
   "execution_count": 26,
   "metadata": {},
   "outputs": [
    {
     "name": "stdout",
     "output_type": "stream",
     "text": [
      "Fitting 5 folds for each of 6 candidates, totalling 30 fits\n"
     ]
    },
    {
     "name": "stderr",
     "output_type": "stream",
     "text": [
      "[Parallel(n_jobs=-3)]: Using backend LokyBackend with 14 concurrent workers.\n",
      "[Parallel(n_jobs=-3)]: Done  14 out of  30 | elapsed:    1.5s remaining:    1.7s\n",
      "[Parallel(n_jobs=-3)]: Done  25 out of  30 | elapsed:    1.6s remaining:    0.2s\n",
      "[Parallel(n_jobs=-3)]: Done  30 out of  30 | elapsed:    1.7s finished\n"
     ]
    },
    {
     "data": {
      "text/plain": [
       "GridSearchCV(cv=5, estimator=AdaBoostRegressor(random_state=42), n_jobs=-3,\n",
       "             param_grid={'loss': ['linear', 'square'],\n",
       "                         'n_estimators': [25, 50, 100]},\n",
       "             verbose=3)"
      ]
     },
     "execution_count": 26,
     "metadata": {},
     "output_type": "execute_result"
    }
   ],
   "source": [
    "gs.fit(galaxies_x_train, galaxies_y_train)"
   ]
  },
  {
   "cell_type": "code",
   "execution_count": 27,
   "metadata": {
    "hidden": true
   },
   "outputs": [
    {
     "data": {
      "text/plain": [
       "{'loss': 'linear', 'n_estimators': 25}"
      ]
     },
     "execution_count": 27,
     "metadata": {},
     "output_type": "execute_result"
    }
   ],
   "source": [
    "gs.best_params_"
   ]
  },
  {
   "cell_type": "code",
   "execution_count": 28,
   "metadata": {},
   "outputs": [
    {
     "data": {
      "text/plain": [
       "0.4789659107735619"
      ]
     },
     "execution_count": 28,
     "metadata": {},
     "output_type": "execute_result"
    }
   ],
   "source": [
    "gs.best_score_"
   ]
  },
  {
   "cell_type": "code",
   "execution_count": 29,
   "metadata": {},
   "outputs": [],
   "source": [
    "gs2 = GridSearchCV(estimator=abr,\n",
    "                 param_grid={\n",
    "                     'n_estimators': [20, 25, 30],\n",
    "                     'loss': ['linear', 'square']\n",
    "                 }, cv=5, verbose=3)"
   ]
  },
  {
   "cell_type": "code",
   "execution_count": 30,
   "metadata": {
    "scrolled": true
   },
   "outputs": [
    {
     "name": "stdout",
     "output_type": "stream",
     "text": [
      "Fitting 5 folds for each of 6 candidates, totalling 30 fits\n",
      "[CV] loss=linear, n_estimators=20 ....................................\n",
      "[CV] ........ loss=linear, n_estimators=20, score=0.489, total=   0.0s\n",
      "[CV] loss=linear, n_estimators=20 ....................................\n",
      "[CV] ........ loss=linear, n_estimators=20, score=0.421, total=   0.0s\n",
      "[CV] loss=linear, n_estimators=20 ....................................\n",
      "[CV] ........ loss=linear, n_estimators=20, score=0.532, total=   0.0s\n",
      "[CV] loss=linear, n_estimators=20 ....................................\n",
      "[CV] ........ loss=linear, n_estimators=20, score=0.512, total=   0.0s\n",
      "[CV] loss=linear, n_estimators=20 ....................................\n",
      "[CV] ........ loss=linear, n_estimators=20, score=0.442, total=   0.0s\n",
      "[CV] loss=linear, n_estimators=25 ....................................\n",
      "[CV] ........ loss=linear, n_estimators=25, score=0.489, total=   0.0s\n",
      "[CV] loss=linear, n_estimators=25 ....................................\n",
      "[CV] ........ loss=linear, n_estimators=25, score=0.421, total=   0.0s\n",
      "[CV] loss=linear, n_estimators=25 ....................................\n",
      "[CV] ........ loss=linear, n_estimators=25, score=0.532, total=   0.0s\n",
      "[CV] loss=linear, n_estimators=25 ....................................\n",
      "[CV] ........ loss=linear, n_estimators=25, score=0.512, total=   0.0s\n",
      "[CV] loss=linear, n_estimators=25 ....................................\n",
      "[CV] ........ loss=linear, n_estimators=25, score=0.442, total=   0.0s\n",
      "[CV] loss=linear, n_estimators=30 ....................................\n",
      "[CV] ........ loss=linear, n_estimators=30, score=0.489, total=   0.0s\n",
      "[CV] loss=linear, n_estimators=30 ....................................\n"
     ]
    },
    {
     "name": "stderr",
     "output_type": "stream",
     "text": [
      "[Parallel(n_jobs=1)]: Using backend SequentialBackend with 1 concurrent workers.\n",
      "[Parallel(n_jobs=1)]: Done   1 out of   1 | elapsed:    0.0s remaining:    0.0s\n",
      "[Parallel(n_jobs=1)]: Done   2 out of   2 | elapsed:    0.0s remaining:    0.0s\n"
     ]
    },
    {
     "name": "stdout",
     "output_type": "stream",
     "text": [
      "[CV] ........ loss=linear, n_estimators=30, score=0.421, total=   0.0s\n",
      "[CV] loss=linear, n_estimators=30 ....................................\n",
      "[CV] ........ loss=linear, n_estimators=30, score=0.532, total=   0.0s\n",
      "[CV] loss=linear, n_estimators=30 ....................................\n",
      "[CV] ........ loss=linear, n_estimators=30, score=0.512, total=   0.0s\n",
      "[CV] loss=linear, n_estimators=30 ....................................\n",
      "[CV] ........ loss=linear, n_estimators=30, score=0.442, total=   0.0s\n",
      "[CV] loss=square, n_estimators=20 ....................................\n",
      "[CV] ........ loss=square, n_estimators=20, score=0.268, total=   0.0s\n",
      "[CV] loss=square, n_estimators=20 ....................................\n",
      "[CV] ........ loss=square, n_estimators=20, score=0.242, total=   0.0s\n",
      "[CV] loss=square, n_estimators=20 ....................................\n",
      "[CV] ........ loss=square, n_estimators=20, score=0.351, total=   0.0s\n",
      "[CV] loss=square, n_estimators=20 ....................................\n",
      "[CV] ........ loss=square, n_estimators=20, score=0.338, total=   0.0s\n",
      "[CV] loss=square, n_estimators=20 ....................................\n",
      "[CV] ........ loss=square, n_estimators=20, score=0.263, total=   0.0s\n",
      "[CV] loss=square, n_estimators=25 ....................................\n",
      "[CV] ........ loss=square, n_estimators=25, score=0.258, total=   0.0s\n",
      "[CV] loss=square, n_estimators=25 ....................................\n",
      "[CV] ........ loss=square, n_estimators=25, score=0.220, total=   0.0s\n",
      "[CV] loss=square, n_estimators=25 ....................................\n",
      "[CV] ........ loss=square, n_estimators=25, score=0.350, total=   0.0s\n",
      "[CV] loss=square, n_estimators=25 ....................................\n",
      "[CV] ........ loss=square, n_estimators=25, score=0.318, total=   0.0s\n",
      "[CV] loss=square, n_estimators=25 ....................................\n",
      "[CV] ........ loss=square, n_estimators=25, score=0.240, total=   0.0s\n",
      "[CV] loss=square, n_estimators=30 ....................................\n",
      "[CV] ........ loss=square, n_estimators=30, score=0.243, total=   0.0s\n",
      "[CV] loss=square, n_estimators=30 ....................................\n",
      "[CV] ........ loss=square, n_estimators=30, score=0.191, total=   0.0s\n",
      "[CV] loss=square, n_estimators=30 ....................................\n",
      "[CV] ........ loss=square, n_estimators=30, score=0.321, total=   0.0s\n",
      "[CV] loss=square, n_estimators=30 ....................................\n",
      "[CV] ........ loss=square, n_estimators=30, score=0.270, total=   0.0s\n",
      "[CV] loss=square, n_estimators=30 ....................................\n",
      "[CV] ........ loss=square, n_estimators=30, score=0.240, total=   0.0s\n"
     ]
    },
    {
     "name": "stderr",
     "output_type": "stream",
     "text": [
      "[Parallel(n_jobs=1)]: Done  30 out of  30 | elapsed:    0.6s finished\n"
     ]
    },
    {
     "data": {
      "text/plain": [
       "GridSearchCV(cv=5, estimator=AdaBoostRegressor(random_state=42),\n",
       "             param_grid={'loss': ['linear', 'square'],\n",
       "                         'n_estimators': [20, 25, 30]},\n",
       "             verbose=3)"
      ]
     },
     "execution_count": 30,
     "metadata": {},
     "output_type": "execute_result"
    }
   ],
   "source": [
    "gs2.fit(galaxies_x_train, galaxies_y_train)"
   ]
  },
  {
   "cell_type": "code",
   "execution_count": 31,
   "metadata": {
    "scrolled": true
   },
   "outputs": [
    {
     "data": {
      "text/plain": [
       "{'loss': 'linear', 'n_estimators': 20}"
      ]
     },
     "execution_count": 31,
     "metadata": {},
     "output_type": "execute_result"
    }
   ],
   "source": [
    "gs2.best_params_"
   ]
  },
  {
   "cell_type": "code",
   "execution_count": 32,
   "metadata": {},
   "outputs": [],
   "source": [
    "gs3 = GridSearchCV(estimator=abr,\n",
    "                 param_grid={\n",
    "                     'n_estimators': [20, 25, 30],\n",
    "                     'loss': ['linear', 'square']\n",
    "                 }, cv=5, verbose=3)"
   ]
  },
  {
   "cell_type": "code",
   "execution_count": 33,
   "metadata": {
    "scrolled": true
   },
   "outputs": [
    {
     "name": "stdout",
     "output_type": "stream",
     "text": [
      "Fitting 5 folds for each of 6 candidates, totalling 30 fits\n",
      "[CV] loss=linear, n_estimators=20 ....................................\n",
      "[CV] ........ loss=linear, n_estimators=20, score=0.489, total=   0.0s\n",
      "[CV] loss=linear, n_estimators=20 ....................................\n",
      "[CV] ........ loss=linear, n_estimators=20, score=0.421, total=   0.0s\n",
      "[CV] loss=linear, n_estimators=20 ....................................\n",
      "[CV] ........ loss=linear, n_estimators=20, score=0.532, total=   0.0s\n",
      "[CV] loss=linear, n_estimators=20 ....................................\n",
      "[CV] ........ loss=linear, n_estimators=20, score=0.512, total=   0.0s\n",
      "[CV] loss=linear, n_estimators=20 ....................................\n",
      "[CV] ........ loss=linear, n_estimators=20, score=0.442, total=   0.0s\n",
      "[CV] loss=linear, n_estimators=25 ....................................\n",
      "[CV] ........ loss=linear, n_estimators=25, score=0.489, total=   0.0s\n",
      "[CV] loss=linear, n_estimators=25 ....................................\n",
      "[CV] ........ loss=linear, n_estimators=25, score=0.421, total=   0.0s\n",
      "[CV] loss=linear, n_estimators=25 ....................................\n",
      "[CV] ........ loss=linear, n_estimators=25, score=0.532, total=   0.0s\n",
      "[CV] loss=linear, n_estimators=25 ....................................\n",
      "[CV] ........ loss=linear, n_estimators=25, score=0.512, total=   0.0s\n",
      "[CV] loss=linear, n_estimators=25 ....................................\n",
      "[CV] ........ loss=linear, n_estimators=25, score=0.442, total=   0.0s\n",
      "[CV] loss=linear, n_estimators=30 ....................................\n",
      "[CV] ........ loss=linear, n_estimators=30, score=0.489, total=   0.0s\n",
      "[CV] loss=linear, n_estimators=30 ....................................\n"
     ]
    },
    {
     "name": "stderr",
     "output_type": "stream",
     "text": [
      "[Parallel(n_jobs=1)]: Using backend SequentialBackend with 1 concurrent workers.\n",
      "[Parallel(n_jobs=1)]: Done   1 out of   1 | elapsed:    0.0s remaining:    0.0s\n",
      "[Parallel(n_jobs=1)]: Done   2 out of   2 | elapsed:    0.0s remaining:    0.0s\n"
     ]
    },
    {
     "name": "stdout",
     "output_type": "stream",
     "text": [
      "[CV] ........ loss=linear, n_estimators=30, score=0.421, total=   0.0s\n",
      "[CV] loss=linear, n_estimators=30 ....................................\n",
      "[CV] ........ loss=linear, n_estimators=30, score=0.532, total=   0.0s\n",
      "[CV] loss=linear, n_estimators=30 ....................................\n",
      "[CV] ........ loss=linear, n_estimators=30, score=0.512, total=   0.0s\n",
      "[CV] loss=linear, n_estimators=30 ....................................\n",
      "[CV] ........ loss=linear, n_estimators=30, score=0.442, total=   0.0s\n",
      "[CV] loss=square, n_estimators=20 ....................................\n",
      "[CV] ........ loss=square, n_estimators=20, score=0.268, total=   0.0s\n",
      "[CV] loss=square, n_estimators=20 ....................................\n",
      "[CV] ........ loss=square, n_estimators=20, score=0.242, total=   0.0s\n",
      "[CV] loss=square, n_estimators=20 ....................................\n",
      "[CV] ........ loss=square, n_estimators=20, score=0.351, total=   0.0s\n",
      "[CV] loss=square, n_estimators=20 ....................................\n",
      "[CV] ........ loss=square, n_estimators=20, score=0.338, total=   0.0s\n",
      "[CV] loss=square, n_estimators=20 ....................................\n",
      "[CV] ........ loss=square, n_estimators=20, score=0.263, total=   0.0s\n",
      "[CV] loss=square, n_estimators=25 ....................................\n",
      "[CV] ........ loss=square, n_estimators=25, score=0.258, total=   0.0s\n",
      "[CV] loss=square, n_estimators=25 ....................................\n",
      "[CV] ........ loss=square, n_estimators=25, score=0.220, total=   0.0s\n",
      "[CV] loss=square, n_estimators=25 ....................................\n",
      "[CV] ........ loss=square, n_estimators=25, score=0.350, total=   0.0s\n",
      "[CV] loss=square, n_estimators=25 ....................................\n",
      "[CV] ........ loss=square, n_estimators=25, score=0.318, total=   0.0s\n",
      "[CV] loss=square, n_estimators=25 ....................................\n",
      "[CV] ........ loss=square, n_estimators=25, score=0.240, total=   0.0s\n",
      "[CV] loss=square, n_estimators=30 ....................................\n",
      "[CV] ........ loss=square, n_estimators=30, score=0.243, total=   0.0s\n",
      "[CV] loss=square, n_estimators=30 ....................................\n",
      "[CV] ........ loss=square, n_estimators=30, score=0.191, total=   0.0s\n",
      "[CV] loss=square, n_estimators=30 ....................................\n",
      "[CV] ........ loss=square, n_estimators=30, score=0.321, total=   0.0s\n",
      "[CV] loss=square, n_estimators=30 ....................................\n",
      "[CV] ........ loss=square, n_estimators=30, score=0.270, total=   0.0s\n",
      "[CV] loss=square, n_estimators=30 ....................................\n",
      "[CV] ........ loss=square, n_estimators=30, score=0.240, total=   0.0s\n"
     ]
    },
    {
     "name": "stderr",
     "output_type": "stream",
     "text": [
      "[Parallel(n_jobs=1)]: Done  30 out of  30 | elapsed:    0.6s finished\n"
     ]
    },
    {
     "data": {
      "text/plain": [
       "{'loss': 'linear', 'n_estimators': 20}"
      ]
     },
     "execution_count": 33,
     "metadata": {},
     "output_type": "execute_result"
    }
   ],
   "source": [
    "gs3.fit(galaxies_x_train, galaxies_y_train)\n",
    "gs3.best_params_"
   ]
  },
  {
   "cell_type": "code",
   "execution_count": 34,
   "metadata": {},
   "outputs": [
    {
     "data": {
      "text/plain": [
       "0.4789659107735619"
      ]
     },
     "execution_count": 34,
     "metadata": {},
     "output_type": "execute_result"
    }
   ],
   "source": [
    "gs3.best_score_"
   ]
  },
  {
   "cell_type": "markdown",
   "metadata": {
    "heading_collapsed": true
   },
   "source": [
    "# Gradient Boosting"
   ]
  },
  {
   "cell_type": "markdown",
   "metadata": {
    "hidden": true
   },
   "source": [
    "> Use gradient descent to improve the model\n",
    "\n",
    "![](images/gradient_boosting_residuals.png)"
   ]
  },
  {
   "cell_type": "markdown",
   "metadata": {
    "hidden": true
   },
   "source": [
    "- **Gradient Boosting** works instead by training each new learner on the residuals of the model built with the learners that have so far been constructed. That is, Model $n+1$ (with $n+1$ learners) will focus on the predictions of Model $n$ (with only $n$ learners) that were **most off the mark**. As the training process repeats, the learners learn and the residuals get smaller. I would get a sequence going: <br/> Model 0 is very simple. Perhaps it merely predicts the mean: <br/>\n",
    "$\\hat{y}_0 = \\bar{y}$; <br/>\n",
    "Model 1's predictions would then be the sum of (i) Model 0's predictions and (ii) the predictions of the model fitted to Model 0's residuals: <br/> $\\hat{y}_1 = \\hat{y}_0 + \\hat{(y - \\hat{y})}_{err0}$; <br/>\n",
    "Now iterate: Model 2's predictions will be the sum of (i) Model 0's predictions, (ii) the predictions of the model fitted to Model 0's residuals, and (iii) the predictions of the model fitted to Model 1's residuals: <br/> $\\hat{y}_2 = \\hat{y}_0 + \\hat{(y - \\hat{y})}_{err0} + \\hat{(y - \\hat{y})}_{err1}$<br/>\n",
    "Etc.\n",
    "<br/>"
   ]
  },
  {
   "cell_type": "markdown",
   "metadata": {
    "hidden": true
   },
   "source": [
    "$\\rightarrow$ How does gradient boosting work for a classification problem? How do we even make sense of the notion of a gradient in that context? The short answer is that we appeal to the probabilities associated with the predictions for the various classes. See more on this topic [here](https://sefiks.com/2018/10/29/a-step-by-step-gradient-boosting-example-for-classification/). <br/> $\\rightarrow$ Why is this called \"_gradient_ boosting\"? Because using a model's residuals to build a new model is using information about the derivative of that model's loss function. See more on this topic [here](https://www.ritchievink.com/blog/2018/11/19/algorithm-breakdown-why-do-we-call-it-gradient-boosting/)."
   ]
  },
  {
   "cell_type": "markdown",
   "metadata": {
    "heading_collapsed": true,
    "hidden": true
   },
   "source": [
    "## Algorithm"
   ]
  },
  {
   "cell_type": "markdown",
   "metadata": {
    "hidden": true
   },
   "source": [
    "Use mean squared error (MSE) and want to minimize that <-- done by gradient descent\n",
    "\n",
    "Use the residuals (pattern in the residuals) to create an even better model\n",
    "\n",
    "1. Fit a model to the data, $F_1(x) = y$\n",
    "2. Fit a model to the residuals, $h_1(x) = y - F_1(x)$\n",
    "3. Create a new model, $F_2(x) = F_1(x) + h_1(x)$\n",
    "4. Repeat"
   ]
  },
  {
   "cell_type": "markdown",
   "metadata": {
    "heading_collapsed": true,
    "hidden": true
   },
   "source": [
    "## Example of Iterative Steps"
   ]
  },
  {
   "cell_type": "markdown",
   "metadata": {
    "hidden": true
   },
   "source": [
    "https://scikit-learn.org/stable/modules/generated/sklearn.ensemble.GradientBoostingClassifier.html"
   ]
  },
  {
   "cell_type": "markdown",
   "metadata": {
    "hidden": true
   },
   "source": [
    "> Parts adapted from https://github.com/ageron/handson-ml/blob/master/07_ensemble_learning_and_random_forests.ipynb"
   ]
  },
  {
   "cell_type": "markdown",
   "metadata": {
    "heading_collapsed": true,
    "hidden": true
   },
   "source": [
    "### Recall our noisy data from earlier"
   ]
  },
  {
   "cell_type": "code",
   "execution_count": 35,
   "metadata": {
    "hidden": true,
    "scrolled": true
   },
   "outputs": [
    {
     "data": {
      "image/png": "[encoded data removed]",
      "text/plain": [
       "<Figure size 432x288 with 1 Axes>"
      ]
     },
     "metadata": {
      "needs_background": "light"
     },
     "output_type": "display_data"
    }
   ],
   "source": [
    "fig, ax = plt.subplots()\n",
    "ax.scatter(X, y, alpha=0.3);"
   ]
  },
  {
   "cell_type": "code",
   "execution_count": 36,
   "metadata": {
    "hidden": true
   },
   "outputs": [
    {
     "data": {
      "image/png": "[encoded data removed]",
      "text/plain": [
       "<Figure size 864x288 with 2 Axes>"
      ]
     },
     "metadata": {
      "needs_background": "light"
     },
     "output_type": "display_data"
    }
   ],
   "source": [
    "f, (ax0, ax1) = plt.subplots(ncols=2, figsize=(12,4))\n",
    "ax0.scatter(X_train, y_train, alpha=0.3)\n",
    "ax1.scatter(X_test, y_test, alpha=0.3);"
   ]
  },
  {
   "cell_type": "code",
   "execution_count": 37,
   "metadata": {
    "hidden": true
   },
   "outputs": [
    {
     "data": {
      "image/png": "[encoded data removed]",
      "text/plain": [
       "<Figure size 864x288 with 3 Axes>"
      ]
     },
     "metadata": {
      "needs_background": "light"
     },
     "output_type": "display_data"
    }
   ],
   "source": [
    "f, (ax0, ax1, ax2) = plt.subplots(ncols=3, figsize=(12,4))\n",
    "ax0.scatter(X, y, alpha=0.3)\n",
    "ax1.scatter(X_train, y_train, alpha=0.3)\n",
    "ax2.scatter(X_test, y_test, alpha=0.3);"
   ]
  },
  {
   "cell_type": "markdown",
   "metadata": {
    "heading_collapsed": true,
    "hidden": true
   },
   "source": [
    "### Train iteratively on the residuals of its predecessor"
   ]
  },
  {
   "cell_type": "code",
   "execution_count": 38,
   "metadata": {
    "hidden": true
   },
   "outputs": [
    {
     "data": {
      "text/plain": [
       "DecisionTreeRegressor(max_depth=2, random_state=42)"
      ]
     },
     "execution_count": 38,
     "metadata": {},
     "output_type": "execute_result"
    }
   ],
   "source": [
    "# First iteration\n",
    "tree_reg1 = DecisionTreeRegressor(max_depth=2, random_state=seed)\n",
    "tree_reg1.fit(X_train, y_train)"
   ]
  },
  {
   "cell_type": "code",
   "execution_count": 39,
   "metadata": {},
   "outputs": [
    {
     "data": {
      "text/plain": [
       "0.7664226476893785"
      ]
     },
     "execution_count": 39,
     "metadata": {},
     "output_type": "execute_result"
    }
   ],
   "source": [
    "tree_reg1.score(X_train, y_train)"
   ]
  },
  {
   "cell_type": "code",
   "execution_count": 40,
   "metadata": {},
   "outputs": [
    {
     "data": {
      "text/plain": [
       "0.706853106410284"
      ]
     },
     "execution_count": 40,
     "metadata": {},
     "output_type": "execute_result"
    }
   ],
   "source": [
    "cross_val_score(tree_reg1, X_train, y_train).mean()"
   ]
  },
  {
   "cell_type": "code",
   "execution_count": 41,
   "metadata": {
    "hidden": true,
    "scrolled": true
   },
   "outputs": [
    {
     "data": {
      "text/plain": [
       "array([ 3.30154798e-03,  3.19955483e-02, -9.62530084e-02,  1.75181574e-01,\n",
       "        1.69543309e-01,  2.21286564e-01,  8.26686747e-02, -8.12316769e-02,\n",
       "       -1.81570847e-01, -4.18856474e-02, -7.71662713e-02, -9.57087064e-02,\n",
       "        2.18077976e-01, -1.49712455e-01,  1.49976623e-01, -1.98858376e-01,\n",
       "       -3.48273009e-02,  8.03963757e-02, -1.55889874e-02, -1.16599848e-01,\n",
       "        1.48075610e-01, -1.58321608e-01, -1.29442126e-02, -1.93925856e-01,\n",
       "        4.93577707e-03,  9.07166418e-02,  1.25645966e-01,  1.13649365e-01,\n",
       "        7.09151390e-02,  1.61384963e-01,  4.44084868e-02,  1.03329799e-01,\n",
       "       -2.24401114e-02, -1.50753543e-01, -8.14416729e-02, -3.07033755e-02,\n",
       "       -3.85187237e-02, -5.95210523e-02,  3.39804367e-02,  5.77046544e-02,\n",
       "        1.17373774e-02,  9.56074869e-02, -2.42620400e-02,  1.10759112e-01,\n",
       "        9.19761023e-02, -1.26378697e-01,  7.94782440e-02,  5.13411421e-02,\n",
       "        4.90761207e-03,  2.10007831e-01, -2.67057118e-02,  8.14032465e-02,\n",
       "       -1.13835218e-01, -3.50824203e-02,  5.88977577e-02,  5.21521284e-02,\n",
       "        5.35789653e-02,  1.76732884e-01,  1.18562204e-02, -5.50525682e-02,\n",
       "       -1.91410310e-02, -1.18489395e-01, -6.43825114e-02, -1.25508602e-01,\n",
       "        1.24955949e-01,  4.31971384e-03, -2.63808976e-02, -1.34028395e-03,\n",
       "       -1.26819028e-01, -7.48039790e-02, -3.56939896e-02,  4.25960776e-02,\n",
       "        3.83191755e-02, -1.54618949e-02,  1.84943987e-01, -3.67720707e-02,\n",
       "        2.79320297e-03, -1.00205730e-01, -1.18681437e-01, -7.81435922e-02,\n",
       "       -5.63562849e-02, -1.87649042e-01,  6.48136683e-02,  2.42016746e-01,\n",
       "       -7.54014561e-03, -8.63241604e-02, -1.38225785e-01,  2.14709818e-02,\n",
       "       -1.08660931e-01, -1.50206596e-01, -5.21387618e-02,  4.21513213e-02,\n",
       "       -7.09933111e-02,  1.94280665e-01, -1.31624704e-01,  1.44665863e-01,\n",
       "       -9.43529996e-02, -1.61158716e-01,  4.79990736e-02,  1.28175927e-01,\n",
       "        8.86894638e-03, -6.06138938e-02, -1.35129495e-01, -1.49770051e-01,\n",
       "        1.37176704e-01,  1.65980581e-02,  1.11812850e-01,  3.80727281e-02,\n",
       "       -1.67556869e-01,  1.60600417e-02,  2.25986098e-01,  5.14821734e-02,\n",
       "        1.56596076e-01, -1.09633496e-01, -3.22014147e-02, -7.72037231e-02,\n",
       "        1.02942152e-01,  1.86246141e-01, -1.44630086e-02, -4.48693132e-02,\n",
       "       -1.07273785e-01, -1.19260502e-01, -6.80123363e-02,  3.38207130e-01,\n",
       "       -3.79939865e-02, -7.19836430e-02, -9.82556567e-02, -6.51031423e-02,\n",
       "        6.35161328e-02, -6.69582133e-02,  9.16072536e-02, -1.88410988e-02,\n",
       "       -1.27255926e-02, -3.19450360e-02,  1.02293836e-01, -1.55700037e-01,\n",
       "        3.21765319e-02,  1.22939263e-01, -3.23208635e-02, -1.24820901e-04,\n",
       "       -5.82589826e-02,  1.77050070e-01, -9.80305793e-02, -1.70182253e-01,\n",
       "        5.99722241e-02, -8.54240711e-02,  2.13100359e-01,  1.23030004e-02,\n",
       "       -1.25653485e-01, -1.04286097e-01])"
      ]
     },
     "execution_count": 41,
     "metadata": {},
     "output_type": "execute_result"
    }
   ],
   "source": [
    "# Second iteration\n",
    "y2 = y_train - tree_reg1.predict(X_train)\n",
    "y2"
   ]
  },
  {
   "cell_type": "code",
   "execution_count": 42,
   "metadata": {
    "hidden": true
   },
   "outputs": [
    {
     "data": {
      "text/plain": [
       "DecisionTreeRegressor(max_depth=2, random_state=42)"
      ]
     },
     "execution_count": 42,
     "metadata": {},
     "output_type": "execute_result"
    }
   ],
   "source": [
    "tree_reg2 = DecisionTreeRegressor(max_depth=2, random_state=seed)\n",
    "tree_reg2.fit(X_train, y2)"
   ]
  },
  {
   "cell_type": "markdown",
   "metadata": {
    "hidden": true
   },
   "source": [
    "Let's make a function that will repeat this process for us"
   ]
  },
  {
   "cell_type": "code",
   "execution_count": 43,
   "metadata": {
    "hidden": true
   },
   "outputs": [],
   "source": [
    "def my_gradient_boosting_regressor(n_estimators, X, y, random_state=27):\n",
    "    # Save the iteratively trained models and residuals\n",
    "    trained_weak_learners = []\n",
    "    past_residuals = []\n",
    "    \n",
    "    # Initial conditions\n",
    "    new_y = y\n",
    "    past_residuals.append(new_y)\n",
    "    # Iteratively train model\n",
    "    for n in range(n_estimators):\n",
    "        # Train the new model on past residuals (note first model trains on y)\n",
    "        new_model = DecisionTreeRegressor(max_depth=2, random_state=random_state)\n",
    "        new_model.fit(X, new_y)\n",
    "        # Find the new residuals (used to train the next model)\n",
    "        new_y = new_y - new_model.predict(X) \n",
    "        # Save the (trained) model and the new residuals\n",
    "        trained_weak_learners.append(new_model)\n",
    "        past_residuals.append(new_y)\n",
    "        \n",
    "    return trained_weak_learners, past_residuals"
   ]
  },
  {
   "cell_type": "code",
   "execution_count": 44,
   "metadata": {
    "hidden": true
   },
   "outputs": [],
   "source": [
    "m, ys = my_gradient_boosting_regressor(3, X_train, y_train)"
   ]
  },
  {
   "cell_type": "markdown",
   "metadata": {
    "heading_collapsed": true,
    "hidden": true
   },
   "source": [
    "### Observe how the regressor gets better"
   ]
  },
  {
   "cell_type": "code",
   "execution_count": 45,
   "metadata": {
    "hidden": true
   },
   "outputs": [],
   "source": [
    "def plot_preds(regressors, X, y, axes, label=None, style='r-', data_style='b.',\n",
    "               data_label=None, ax=None):\n",
    "    x1 = np.linspace(axes[0], axes[1], 500)\n",
    "    y_pred = sum(regressor.predict(x1.reshape(-1, 1)) for regressor in regressors)\n",
    "    ax.plot(X[:, 0], y, data_style, label=data_label)\n",
    "    ax.plot(x1, y_pred, style, linewidth=2, label=label)\n",
    "    if label or data_label:\n",
    "        ax.legend(loc='upper center')\n",
    "\n",
    "def gradient_boost_and_plot(n_estimators, X, y):\n",
    "    \n",
    "    fig_size = (16, 4*n_estimators)\n",
    "    model_list, resid_list = my_gradient_boosting_regressor(16, X, y)\n",
    "    f, axes = plt.subplots(nrows=n_estimators, ncols=2, figsize=fig_size)\n",
    "\n",
    "    base_label ='h(x_1) = '\n",
    "    iterative_label = 'y'\n",
    "    for i in range(n_estimators):\n",
    "        # Next set of residuals\n",
    "        y = resid_list[i]\n",
    "        # Must be a list of one item\n",
    "        past_model = [model_list[i]]\n",
    "        # Includes current model\n",
    "        past_models = model_list[:(i+1)]\n",
    "        # New labels\n",
    "        new_label = f'h_{i}(x_{i})'\n",
    "        base_label = f'{base_label} {new_label}'\n",
    "\n",
    "        plot_preds(\n",
    "            past_model,\n",
    "            X,\n",
    "            y,\n",
    "            axes=[-0.5, 0.5, -0.1, 0.8], \n",
    "            label=f'${iterative_label}$',\n",
    "            style=\"g-\",\n",
    "            data_label='Training set',\n",
    "            ax=axes[i][0]\n",
    "        )\n",
    "        axes[i][0].set_title('Residuals and tree predictions')\n",
    "\n",
    "        plot_preds(\n",
    "            past_models,\n",
    "            X,\n",
    "            resid_list[0],\n",
    "            axes=[-0.5, 0.5, -0.1, 0.8],\n",
    "            label=f'${base_label}$',\n",
    "            data_label='Training set',\n",
    "            ax=axes[i][1]\n",
    "        )\n",
    "        axes[i][1].set_ylabel('$y$', fontsize=16, rotation=0)\n",
    "        axes[i][1].set_title('Ensemble predictions')\n",
    "\n",
    "        # Update labels for next round\n",
    "        base_label = f'{base_label} + '\n",
    "        iterative_label = f'{iterative_label} - {new_label}'\n",
    "        \n",
    "    return f, model_list, resid_list;"
   ]
  },
  {
   "cell_type": "code",
   "execution_count": 46,
   "metadata": {
    "hidden": true,
    "scrolled": false
   },
   "outputs": [
    {
     "data": {
      "image/png": "[encoded data removed]",
      "text/plain": [
       "<Figure size 1152x1152 with 8 Axes>"
      ]
     },
     "metadata": {
      "needs_background": "light"
     },
     "output_type": "display_data"
    }
   ],
   "source": [
    "gradient_boost_and_plot(4, X_train, y_train);"
   ]
  },
  {
   "cell_type": "markdown",
   "metadata": {
    "heading_collapsed": true,
    "hidden": true
   },
   "source": [
    "### Using SciKit-learn's Gradient Boosting"
   ]
  },
  {
   "cell_type": "code",
   "execution_count": 47,
   "metadata": {
    "hidden": true
   },
   "outputs": [
    {
     "data": {
      "text/plain": [
       "GradientBoostingRegressor(learning_rate=1.0, max_depth=2, n_estimators=4)"
      ]
     },
     "execution_count": 47,
     "metadata": {},
     "output_type": "execute_result"
    }
   ],
   "source": [
    "gbrt = GradientBoostingRegressor(max_depth=2, n_estimators=4, learning_rate=1.0)\n",
    "gbrt.fit(X_train, y_train)"
   ]
  },
  {
   "cell_type": "markdown",
   "metadata": {
    "heading_collapsed": true,
    "hidden": true
   },
   "source": [
    "## Comparing gradient boosting with many estimators "
   ]
  },
  {
   "cell_type": "code",
   "execution_count": 48,
   "metadata": {
    "hidden": true
   },
   "outputs": [
    {
     "data": {
      "text/plain": [
       "GradientBoostingRegressor(max_depth=2, n_estimators=1000, random_state=42)"
      ]
     },
     "execution_count": 48,
     "metadata": {},
     "output_type": "execute_result"
    }
   ],
   "source": [
    "# More estimators\n",
    "gbrt_slow = GradientBoostingRegressor(max_depth=2,\n",
    "                                      n_estimators=100,\n",
    "                                      learning_rate=0.1,\n",
    "                                      random_state=seed)\n",
    "gbrt_slow.fit(X_train, y_train)\n",
    "\n",
    "# Even more estimators\n",
    "gbrt_slower = GradientBoostingRegressor(max_depth=2,\n",
    "                                        n_estimators=1000,\n",
    "                                        learning_rate=0.1,\n",
    "                                        random_state=seed)\n",
    "gbrt_slower.fit(X_train, y_train)"
   ]
  },
  {
   "cell_type": "code",
   "execution_count": 49,
   "metadata": {
    "hidden": true
   },
   "outputs": [
    {
     "data": {
      "image/png": "[encoded data removed]",
      "text/plain": [
       "<Figure size 864x288 with 3 Axes>"
      ]
     },
     "metadata": {
      "needs_background": "light"
     },
     "output_type": "display_data"
    }
   ],
   "source": [
    "f, (ax0, ax1, ax2) = plt.subplots(ncols=3, figsize=(12, 4))\n",
    "\n",
    "axes = [-0.5, 0.5, -0.1, 0.8]\n",
    "plot_preds([gbrt], X, y, axes=axes, ax=ax0)\n",
    "ax0.set_title(\n",
    "    f\"learning_rate={gbrt.learning_rate}, n_estimators={gbrt.n_estimators}\",\n",
    "              fontsize=14)\n",
    "\n",
    "plot_preds([gbrt_slow], X, y, axes=axes, ax=ax1)\n",
    "ax1.set_title(\n",
    "    f\"learning_rate={gbrt_slow.learning_rate}, n_estimators={gbrt_slow.n_estimators}\",\n",
    "              fontsize=14)\n",
    "\n",
    "plot_preds([gbrt_slower], X, y, axes=axes, ax=ax2)\n",
    "ax2.set_title(\n",
    "    f\"learning_rate={gbrt_slower.learning_rate}, n_estimators={gbrt_slower.n_estimators}\",\n",
    "              fontsize=14)\n",
    "\n",
    "plt.tight_layout()"
   ]
  },
  {
   "cell_type": "code",
   "execution_count": 51,
   "metadata": {
    "hidden": true
   },
   "outputs": [
    {
     "data": {
      "text/plain": [
       "(0.9372436970463155, 0.8842347761125001)"
      ]
     },
     "execution_count": 51,
     "metadata": {},
     "output_type": "execute_result"
    }
   ],
   "source": [
    "gbrt.score(X_train, y_train), gbrt.score(X_test, y_test)"
   ]
  },
  {
   "cell_type": "code",
   "execution_count": 52,
   "metadata": {
    "hidden": true
   },
   "outputs": [
    {
     "data": {
      "text/plain": [
       "(0.9769809166929815, 0.9473525403712995)"
      ]
     },
     "execution_count": 52,
     "metadata": {},
     "output_type": "execute_result"
    }
   ],
   "source": [
    "gbrt_slow.score(X_train, y_train), gbrt_slow.score(X_test, y_test)"
   ]
  },
  {
   "cell_type": "code",
   "execution_count": 53,
   "metadata": {
    "hidden": true,
    "scrolled": true
   },
   "outputs": [
    {
     "data": {
      "text/plain": [
       "(0.9994930542904391, 0.9356149544433409)"
      ]
     },
     "execution_count": 53,
     "metadata": {},
     "output_type": "execute_result"
    }
   ],
   "source": [
    "gbrt_slower.score(X_train, y_train), gbrt_slower.score(X_test, y_test)"
   ]
  },
  {
   "cell_type": "code",
   "execution_count": 56,
   "metadata": {},
   "outputs": [],
   "source": [
    "grid = {'n_estimators': [80, 90, 100, 110, 120],\n",
    "       'max_depth': [2, 3, 4]}\n",
    "gs_gb = GridSearchCV(GradientBoostingRegressor(random_state=seed), \n",
    "                     param_grid=grid, n_jobs=-2, verbose=3)"
   ]
  },
  {
   "cell_type": "code",
   "execution_count": 75,
   "metadata": {
    "scrolled": true
   },
   "outputs": [
    {
     "name": "stdout",
     "output_type": "stream",
     "text": [
      "Fitting 5 folds for each of 15 candidates, totalling 75 fits\n"
     ]
    },
    {
     "name": "stderr",
     "output_type": "stream",
     "text": [
      "[Parallel(n_jobs=-3)]: Using backend LokyBackend with 6 concurrent workers.\n",
      "[Parallel(n_jobs=-3)]: Done  20 tasks      | elapsed:    1.2s\n",
      "[Parallel(n_jobs=-3)]: Done  75 out of  75 | elapsed:    1.5s finished\n"
     ]
    },
    {
     "data": {
      "text/plain": [
       "GridSearchCV(estimator=GradientBoostingRegressor(random_state=42), n_jobs=-3,\n",
       "             param_grid={'max_depth': [2, 3, 4],\n",
       "                         'n_estimators': [80, 90, 100, 110, 120]},\n",
       "             verbose=3)"
      ]
     },
     "execution_count": 75,
     "metadata": {},
     "output_type": "execute_result"
    }
   ],
   "source": [
    "gs_gb.fit(X_train, y_train)"
   ]
  },
  {
   "cell_type": "code",
   "execution_count": 57,
   "metadata": {},
   "outputs": [
    {
     "name": "stdout",
     "output_type": "stream",
     "text": [
      "Fitting 5 folds for each of 15 candidates, totalling 75 fits\n"
     ]
    },
    {
     "name": "stderr",
     "output_type": "stream",
     "text": [
      "[Parallel(n_jobs=-2)]: Using backend LokyBackend with 15 concurrent workers.\n",
      "[Parallel(n_jobs=-2)]: Done   2 tasks      | elapsed:    0.0s\n",
      "[Parallel(n_jobs=-2)]: Done  46 out of  75 | elapsed:    0.1s remaining:    0.0s\n",
      "[Parallel(n_jobs=-2)]: Done  72 out of  75 | elapsed:    0.1s remaining:    0.0s\n",
      "[Parallel(n_jobs=-2)]: Done  75 out of  75 | elapsed:    0.1s finished\n"
     ]
    },
    {
     "data": {
      "text/plain": [
       "GridSearchCV(estimator=GradientBoostingRegressor(random_state=42), n_jobs=-2,\n",
       "             param_grid={'max_depth': [2, 3, 4],\n",
       "                         'n_estimators': [80, 90, 100, 110, 120]},\n",
       "             verbose=3)"
      ]
     },
     "execution_count": 57,
     "metadata": {},
     "output_type": "execute_result"
    }
   ],
   "source": [
    "gs_gb.fit(X_train, y_train)"
   ]
  },
  {
   "cell_type": "code",
   "execution_count": 54,
   "metadata": {
    "scrolled": true
   },
   "outputs": [
    {
     "data": {
      "text/plain": [
       "{'max_depth': 2, 'n_estimators': 80}"
      ]
     },
     "execution_count": 54,
     "metadata": {},
     "output_type": "execute_result"
    }
   ],
   "source": [
    "gs_gb.best_params_"
   ]
  },
  {
   "cell_type": "code",
   "execution_count": 55,
   "metadata": {
    "scrolled": true
   },
   "outputs": [
    {
     "data": {
      "text/plain": [
       "0.9316932513500747"
      ]
     },
     "execution_count": 55,
     "metadata": {},
     "output_type": "execute_result"
    }
   ],
   "source": [
    "gs_gb.best_score_"
   ]
  },
  {
   "cell_type": "code",
   "execution_count": 56,
   "metadata": {},
   "outputs": [
    {
     "data": {
      "text/plain": [
       "0.9472068964213739"
      ]
     },
     "execution_count": 56,
     "metadata": {},
     "output_type": "execute_result"
    }
   ],
   "source": [
    "gs_gb.best_estimator_.score(X_test, y_test)"
   ]
  },
  {
   "cell_type": "code",
   "execution_count": 57,
   "metadata": {},
   "outputs": [
    {
     "data": {
      "text/plain": [
       "array([1.])"
      ]
     },
     "execution_count": 57,
     "metadata": {},
     "output_type": "execute_result"
    }
   ],
   "source": [
    "gs_gb.best_estimator_.feature_importances_"
   ]
  },
  {
   "cell_type": "markdown",
   "metadata": {
    "heading_collapsed": true
   },
   "source": [
    "# XGBoost"
   ]
  },
  {
   "cell_type": "markdown",
   "metadata": {
    "hidden": true
   },
   "source": [
    "From [XGBoost's documentation](https://xgboost.readthedocs.io/):\n",
    "\n",
    ">_**XGBoost** is an optimized distributed gradient boosting library designed to be highly **efficient**, **flexible** and **portable**. It implements machine learning algorithms under the Gradient Boosting framework. XGBoost provides a parallel tree boosting (also known as GBDT, GBM) that solve many data science problems in a fast and accurate way. The same code runs on major distributed environment (Hadoop, SGE, MPI) and can solve problems beyond billions of examples._"
   ]
  },
  {
   "cell_type": "markdown",
   "metadata": {
    "heading_collapsed": true,
    "hidden": true
   },
   "source": [
    "## XGBoost Regression"
   ]
  },
  {
   "cell_type": "code",
   "execution_count": 58,
   "metadata": {
    "hidden": true,
    "scrolled": true
   },
   "outputs": [
    {
     "data": {
      "text/plain": [
       "XGBRegressor(base_score=0.5, booster='gbtree', colsample_bylevel=1,\n",
       "             colsample_bynode=1, colsample_bytree=1, gamma=0, gpu_id=-1,\n",
       "             importance_type='gain', interaction_constraints='',\n",
       "             learning_rate=0.300000012, max_delta_step=0, max_depth=6,\n",
       "             min_child_weight=1, missing=nan, monotone_constraints='()',\n",
       "             n_estimators=100, n_jobs=0, num_parallel_tree=1, random_state=42,\n",
       "             reg_alpha=0, reg_lambda=1, scale_pos_weight=1, subsample=1,\n",
       "             tree_method='exact', validate_parameters=1, verbosity=None)"
      ]
     },
     "execution_count": 58,
     "metadata": {},
     "output_type": "execute_result"
    }
   ],
   "source": [
    "grad_boost = xgboost.XGBRegressor(random_state=42, objective='reg:squarederror')\n",
    "\n",
    "grad_boost.fit(X_train, y_train)"
   ]
  },
  {
   "cell_type": "code",
   "execution_count": 59,
   "metadata": {
    "hidden": true,
    "scrolled": true
   },
   "outputs": [
    {
     "data": {
      "text/plain": [
       "array([0.89748539, 0.89178824, 0.92807073, 0.93682086, 0.87767354])"
      ]
     },
     "execution_count": 59,
     "metadata": {},
     "output_type": "execute_result"
    }
   ],
   "source": [
    "cross_val_score(grad_boost, X_train, y_train, cv=5)"
   ]
  },
  {
   "cell_type": "code",
   "execution_count": 60,
   "metadata": {
    "scrolled": true
   },
   "outputs": [
    {
     "data": {
      "text/plain": [
       "0.9336302739749714"
      ]
     },
     "execution_count": 60,
     "metadata": {},
     "output_type": "execute_result"
    }
   ],
   "source": [
    "grad_boost.score(X_test, y_test)"
   ]
  },
  {
   "cell_type": "code",
   "execution_count": 61,
   "metadata": {},
   "outputs": [
    {
     "data": {
      "text/plain": [
       "array([1.], dtype=float32)"
      ]
     },
     "execution_count": 61,
     "metadata": {},
     "output_type": "execute_result"
    }
   ],
   "source": [
    "grad_boost.feature_importances_"
   ]
  },
  {
   "cell_type": "markdown",
   "metadata": {
    "heading_collapsed": true
   },
   "source": [
    "# Level Up: Regression or Classification?"
   ]
  },
  {
   "cell_type": "markdown",
   "metadata": {
    "hidden": true
   },
   "source": [
    "What does my target look like?"
   ]
  },
  {
   "cell_type": "code",
   "execution_count": 62,
   "metadata": {
    "hidden": true,
    "scrolled": true
   },
   "outputs": [
    {
     "data": {
      "image/png": "[encoded data removed]",
      "text/plain": [
       "<Figure size 432x288 with 1 Axes>"
      ]
     },
     "metadata": {
      "needs_background": "light"
     },
     "output_type": "display_data"
    }
   ],
   "source": [
    "galaxies['Mcz'].hist();"
   ]
  },
  {
   "cell_type": "markdown",
   "metadata": {
    "hidden": true
   },
   "source": [
    "There seems to be a bit of a bimodal shape here. We might therefore try predicting whether the redshift factor is likely to be greater or less than 0.5:"
   ]
  },
  {
   "cell_type": "code",
   "execution_count": 63,
   "metadata": {
    "hidden": true
   },
   "outputs": [],
   "source": [
    "galaxies['bool'] = galaxies['Mcz'] > 0.5"
   ]
  },
  {
   "cell_type": "code",
   "execution_count": 64,
   "metadata": {
    "hidden": true,
    "scrolled": true
   },
   "outputs": [
    {
     "data": {
      "text/html": [
       "<div>\n",
       "<style scoped>\n",
       "    .dataframe tbody tr th:only-of-type {\n",
       "        vertical-align: middle;\n",
       "    }\n",
       "\n",
       "    .dataframe tbody tr th {\n",
       "        vertical-align: top;\n",
       "    }\n",
       "\n",
       "    .dataframe thead th {\n",
       "        text-align: right;\n",
       "    }\n",
       "</style>\n",
       "<table border=\"1\" class=\"dataframe\">\n",
       "  <thead>\n",
       "    <tr style=\"text-align: right;\">\n",
       "      <th></th>\n",
       "      <th>Nr</th>\n",
       "      <th>Rmag</th>\n",
       "      <th>e.Rmag</th>\n",
       "      <th>ApDRmag</th>\n",
       "      <th>mumax</th>\n",
       "      <th>Mcz</th>\n",
       "      <th>e.Mcz</th>\n",
       "      <th>MCzml</th>\n",
       "      <th>chi2red</th>\n",
       "      <th>UjMAG</th>\n",
       "      <th>...</th>\n",
       "      <th>e.UFS</th>\n",
       "      <th>BFS</th>\n",
       "      <th>e.BFS</th>\n",
       "      <th>VFD</th>\n",
       "      <th>e.VFD</th>\n",
       "      <th>RFS</th>\n",
       "      <th>e.RFS</th>\n",
       "      <th>IFD</th>\n",
       "      <th>e.IFD</th>\n",
       "      <th>bool</th>\n",
       "    </tr>\n",
       "  </thead>\n",
       "  <tbody>\n",
       "    <tr>\n",
       "      <th>3457</th>\n",
       "      <td>9990</td>\n",
       "      <td>24.962</td>\n",
       "      <td>0.186</td>\n",
       "      <td>-0.113</td>\n",
       "      <td>25.189</td>\n",
       "      <td>0.960</td>\n",
       "      <td>0.190</td>\n",
       "      <td>0.951</td>\n",
       "      <td>0.89</td>\n",
       "      <td>-18.21</td>\n",
       "      <td>...</td>\n",
       "      <td>0.00170</td>\n",
       "      <td>0.00361</td>\n",
       "      <td>0.001150</td>\n",
       "      <td>0.00489</td>\n",
       "      <td>0.00147</td>\n",
       "      <td>0.00625</td>\n",
       "      <td>0.000413</td>\n",
       "      <td>0.00987</td>\n",
       "      <td>0.00323</td>\n",
       "      <td>True</td>\n",
       "    </tr>\n",
       "    <tr>\n",
       "      <th>3458</th>\n",
       "      <td>9992</td>\n",
       "      <td>21.918</td>\n",
       "      <td>0.017</td>\n",
       "      <td>-0.562</td>\n",
       "      <td>23.063</td>\n",
       "      <td>0.770</td>\n",
       "      <td>0.031</td>\n",
       "      <td>0.766</td>\n",
       "      <td>0.90</td>\n",
       "      <td>-20.47</td>\n",
       "      <td>...</td>\n",
       "      <td>0.00218</td>\n",
       "      <td>0.04500</td>\n",
       "      <td>0.001310</td>\n",
       "      <td>0.05130</td>\n",
       "      <td>0.00173</td>\n",
       "      <td>0.07210</td>\n",
       "      <td>0.000542</td>\n",
       "      <td>0.10200</td>\n",
       "      <td>0.00477</td>\n",
       "      <td>True</td>\n",
       "    </tr>\n",
       "    <tr>\n",
       "      <th>3459</th>\n",
       "      <td>9995</td>\n",
       "      <td>23.701</td>\n",
       "      <td>0.051</td>\n",
       "      <td>-0.437</td>\n",
       "      <td>24.053</td>\n",
       "      <td>0.775</td>\n",
       "      <td>0.121</td>\n",
       "      <td>1.330</td>\n",
       "      <td>0.60</td>\n",
       "      <td>-18.76</td>\n",
       "      <td>...</td>\n",
       "      <td>0.00223</td>\n",
       "      <td>0.01850</td>\n",
       "      <td>0.001090</td>\n",
       "      <td>0.01450</td>\n",
       "      <td>0.00182</td>\n",
       "      <td>0.01580</td>\n",
       "      <td>0.000468</td>\n",
       "      <td>0.01860</td>\n",
       "      <td>0.00484</td>\n",
       "      <td>True</td>\n",
       "    </tr>\n",
       "    <tr>\n",
       "      <th>3460</th>\n",
       "      <td>9996</td>\n",
       "      <td>23.473</td>\n",
       "      <td>0.098</td>\n",
       "      <td>-1.114</td>\n",
       "      <td>25.075</td>\n",
       "      <td>0.926</td>\n",
       "      <td>0.087</td>\n",
       "      <td>0.870</td>\n",
       "      <td>1.01</td>\n",
       "      <td>-19.67</td>\n",
       "      <td>...</td>\n",
       "      <td>0.00225</td>\n",
       "      <td>0.00809</td>\n",
       "      <td>0.001190</td>\n",
       "      <td>0.01140</td>\n",
       "      <td>0.00166</td>\n",
       "      <td>0.01070</td>\n",
       "      <td>0.000454</td>\n",
       "      <td>0.01930</td>\n",
       "      <td>0.00390</td>\n",
       "      <td>True</td>\n",
       "    </tr>\n",
       "    <tr>\n",
       "      <th>3461</th>\n",
       "      <td>9997</td>\n",
       "      <td>25.621</td>\n",
       "      <td>0.298</td>\n",
       "      <td>-0.224</td>\n",
       "      <td>25.488</td>\n",
       "      <td>0.968</td>\n",
       "      <td>0.139</td>\n",
       "      <td>0.957</td>\n",
       "      <td>1.13</td>\n",
       "      <td>-17.70</td>\n",
       "      <td>...</td>\n",
       "      <td>0.00165</td>\n",
       "      <td>0.00315</td>\n",
       "      <td>0.000949</td>\n",
       "      <td>0.00247</td>\n",
       "      <td>0.00131</td>\n",
       "      <td>0.00317</td>\n",
       "      <td>0.000426</td>\n",
       "      <td>0.00746</td>\n",
       "      <td>0.00415</td>\n",
       "      <td>True</td>\n",
       "    </tr>\n",
       "  </tbody>\n",
       "</table>\n",
       "<p>5 rows × 66 columns</p>\n",
       "</div>"
      ],
      "text/plain": [
       "        Nr    Rmag  e.Rmag  ApDRmag   mumax    Mcz  e.Mcz  MCzml  chi2red  \\\n",
       "3457  9990  24.962   0.186   -0.113  25.189  0.960  0.190  0.951     0.89   \n",
       "3458  9992  21.918   0.017   -0.562  23.063  0.770  0.031  0.766     0.90   \n",
       "3459  9995  23.701   0.051   -0.437  24.053  0.775  0.121  1.330     0.60   \n",
       "3460  9996  23.473   0.098   -1.114  25.075  0.926  0.087  0.870     1.01   \n",
       "3461  9997  25.621   0.298   -0.224  25.488  0.968  0.139  0.957     1.13   \n",
       "\n",
       "      UjMAG  ...    e.UFS      BFS     e.BFS      VFD    e.VFD      RFS  \\\n",
       "3457 -18.21  ...  0.00170  0.00361  0.001150  0.00489  0.00147  0.00625   \n",
       "3458 -20.47  ...  0.00218  0.04500  0.001310  0.05130  0.00173  0.07210   \n",
       "3459 -18.76  ...  0.00223  0.01850  0.001090  0.01450  0.00182  0.01580   \n",
       "3460 -19.67  ...  0.00225  0.00809  0.001190  0.01140  0.00166  0.01070   \n",
       "3461 -17.70  ...  0.00165  0.00315  0.000949  0.00247  0.00131  0.00317   \n",
       "\n",
       "         e.RFS      IFD    e.IFD  bool  \n",
       "3457  0.000413  0.00987  0.00323  True  \n",
       "3458  0.000542  0.10200  0.00477  True  \n",
       "3459  0.000468  0.01860  0.00484  True  \n",
       "3460  0.000454  0.01930  0.00390  True  \n",
       "3461  0.000426  0.00746  0.00415  True  \n",
       "\n",
       "[5 rows x 66 columns]"
      ]
     },
     "execution_count": 64,
     "metadata": {},
     "output_type": "execute_result"
    }
   ],
   "source": [
    "galaxies.tail()"
   ]
  },
  {
   "cell_type": "code",
   "execution_count": 65,
   "metadata": {
    "hidden": true
   },
   "outputs": [],
   "source": [
    "x_train2, x_test2, y_train2, y_test2 = train_test_split(galaxies_x_rev, galaxies['bool'])"
   ]
  },
  {
   "cell_type": "markdown",
   "metadata": {
    "heading_collapsed": true,
    "hidden": true
   },
   "source": [
    "## Adaboost Classification"
   ]
  },
  {
   "cell_type": "code",
   "execution_count": 66,
   "metadata": {
    "hidden": true
   },
   "outputs": [
    {
     "data": {
      "text/plain": [
       "AdaBoostClassifier(random_state=42)"
      ]
     },
     "execution_count": 66,
     "metadata": {},
     "output_type": "execute_result"
    }
   ],
   "source": [
    "abc = AdaBoostClassifier(random_state=42)\n",
    "\n",
    "abc.fit(x_train2, y_train2)"
   ]
  },
  {
   "cell_type": "code",
   "execution_count": 67,
   "metadata": {
    "hidden": true
   },
   "outputs": [
    {
     "data": {
      "text/plain": [
       "0.8872093023255814"
      ]
     },
     "execution_count": 67,
     "metadata": {},
     "output_type": "execute_result"
    }
   ],
   "source": [
    "abc.score(x_test2, y_test2)"
   ]
  },
  {
   "cell_type": "code",
   "execution_count": 68,
   "metadata": {
    "hidden": true
   },
   "outputs": [
    {
     "data": {
      "text/plain": [
       "0.8930555555555556"
      ]
     },
     "execution_count": 68,
     "metadata": {},
     "output_type": "execute_result"
    }
   ],
   "source": [
    "precision_score(y_test2, abc.predict(x_test2))"
   ]
  },
  {
   "cell_type": "code",
   "execution_count": 69,
   "metadata": {
    "hidden": true
   },
   "outputs": [
    {
     "data": {
      "text/plain": [
       "0.9698340874811463"
      ]
     },
     "execution_count": 69,
     "metadata": {},
     "output_type": "execute_result"
    }
   ],
   "source": [
    "recall_score(y_test2, abc.predict(x_test2))"
   ]
  },
  {
   "cell_type": "markdown",
   "metadata": {
    "heading_collapsed": true,
    "hidden": true
   },
   "source": [
    "## GradientBoosting"
   ]
  },
  {
   "cell_type": "code",
   "execution_count": 70,
   "metadata": {
    "hidden": true
   },
   "outputs": [
    {
     "data": {
      "text/plain": [
       "GradientBoostingClassifier(random_state=42)"
      ]
     },
     "execution_count": 70,
     "metadata": {},
     "output_type": "execute_result"
    }
   ],
   "source": [
    "gbc = GradientBoostingClassifier(random_state=42)\n",
    "\n",
    "gbc.fit(x_train2, y_train2)"
   ]
  },
  {
   "cell_type": "code",
   "execution_count": 71,
   "metadata": {
    "hidden": true
   },
   "outputs": [
    {
     "data": {
      "text/plain": [
       "0.8848837209302326"
      ]
     },
     "execution_count": 71,
     "metadata": {},
     "output_type": "execute_result"
    }
   ],
   "source": [
    "gbc.score(x_test2, y_test2)"
   ]
  },
  {
   "cell_type": "code",
   "execution_count": 72,
   "metadata": {
    "hidden": true
   },
   "outputs": [
    {
     "data": {
      "text/plain": [
       "0.8905817174515236"
      ]
     },
     "execution_count": 72,
     "metadata": {},
     "output_type": "execute_result"
    }
   ],
   "source": [
    "precision_score(y_test2, gbc.predict(x_test2))"
   ]
  },
  {
   "cell_type": "code",
   "execution_count": 73,
   "metadata": {
    "hidden": true
   },
   "outputs": [
    {
     "data": {
      "text/plain": [
       "0.9698340874811463"
      ]
     },
     "execution_count": 73,
     "metadata": {},
     "output_type": "execute_result"
    }
   ],
   "source": [
    "recall_score(y_test2, gbc.predict(x_test2))"
   ]
  },
  {
   "cell_type": "code",
   "execution_count": 74,
   "metadata": {
    "hidden": true
   },
   "outputs": [
    {
     "data": {
      "text/plain": [
       "array([[118,  79],\n",
       "       [ 20, 643]], dtype=int64)"
      ]
     },
     "execution_count": 74,
     "metadata": {},
     "output_type": "execute_result"
    }
   ],
   "source": [
    "confusion_matrix(y_test2, gbc.predict(x_test2))"
   ]
  },
  {
   "cell_type": "markdown",
   "metadata": {
    "heading_collapsed": true,
    "hidden": true
   },
   "source": [
    "## XGBoost Classification"
   ]
  },
  {
   "cell_type": "code",
   "execution_count": 75,
   "metadata": {
    "hidden": true
   },
   "outputs": [
    {
     "data": {
      "text/plain": [
       "XGBClassifier(base_score=0.5, booster='gbtree', colsample_bylevel=1,\n",
       "              colsample_bynode=1, colsample_bytree=1, gamma=0, gpu_id=-1,\n",
       "              importance_type='gain', interaction_constraints='',\n",
       "              learning_rate=0.300000012, max_delta_step=0, max_depth=6,\n",
       "              min_child_weight=1, missing=nan, monotone_constraints='()',\n",
       "              n_estimators=100, n_jobs=0, num_parallel_tree=1, random_state=42,\n",
       "              reg_alpha=0, reg_lambda=1, scale_pos_weight=1, subsample=1,\n",
       "              tree_method='exact', validate_parameters=1, verbosity=None)"
      ]
     },
     "execution_count": 75,
     "metadata": {},
     "output_type": "execute_result"
    }
   ],
   "source": [
    "grad_boost_class = xgboost.XGBClassifier(random_state=42, objective='binary:logistic')\n",
    "\n",
    "grad_boost_class.fit(x_train2, y_train2)"
   ]
  },
  {
   "cell_type": "code",
   "execution_count": 76,
   "metadata": {
    "hidden": true
   },
   "outputs": [
    {
     "data": {
      "text/plain": [
       "0.8825581395348837"
      ]
     },
     "execution_count": 76,
     "metadata": {},
     "output_type": "execute_result"
    }
   ],
   "source": [
    "grad_boost_class.score(x_test2, y_test2)"
   ]
  },
  {
   "cell_type": "code",
   "execution_count": 77,
   "metadata": {},
   "outputs": [
    {
     "data": {
      "text/plain": [
       "0.9668174962292609"
      ]
     },
     "execution_count": 77,
     "metadata": {},
     "output_type": "execute_result"
    }
   ],
   "source": [
    "recall_score(y_test2, grad_boost_class.predict(x_test2))"
   ]
  },
  {
   "cell_type": "code",
   "execution_count": 78,
   "metadata": {},
   "outputs": [
    {
     "data": {
      "text/plain": [
       "array([[118,  79],\n",
       "       [ 22, 641]], dtype=int64)"
      ]
     },
     "execution_count": 78,
     "metadata": {},
     "output_type": "execute_result"
    }
   ],
   "source": [
    "confusion_matrix(y_test2, grad_boost_class.predict(x_test2))"
   ]
  }
 ],
 "metadata": {
  "kernelspec": {
   "display_name": "Python (gpu-env)",
   "language": "python",
   "name": "gpu-env"
  },
  "language_info": {
   "codemirror_mode": {
    "name": "ipython",
    "version": 3
   },
   "file_extension": ".py",
   "mimetype": "text/x-python",
   "name": "python",
   "nbconvert_exporter": "python",
   "pygments_lexer": "ipython3",
   "version": "3.8.5"
  },
  "toc": {
   "base_numbering": 1,
   "nav_menu": {},
   "number_sections": true,
   "sideBar": true,
   "skip_h1_title": false,
   "title_cell": "Table of Contents",
   "title_sidebar": "Contents",
   "toc_cell": true,
   "toc_position": {
    "height": "884px",
    "left": "120px",
    "top": "146px",
    "width": "341px"
   },
   "toc_section_display": true,
   "toc_window_display": true
  }
 },
 "nbformat": 4,
 "nbformat_minor": 2
}
