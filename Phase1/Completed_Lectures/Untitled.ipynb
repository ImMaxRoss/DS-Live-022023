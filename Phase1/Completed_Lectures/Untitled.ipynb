{
 "cells": [
  {
   "cell_type": "code",
   "execution_count": null,
   "metadata": {},
   "outputs": [],
   "source": [
    "movie_id           1326 non-null   object        \n",
    " 1   ordering           1326 non-null   int64         \n",
    " 2   title              1326 non-null   object        \n",
    " 3   region             1326 non-null   object        \n",
    " 4   language           23 non-null     object        \n",
    " 5   types              622 non-null    object        \n",
    " 6   attributes         117 non-null    object        \n",
    " 7   is_original_title  1326 non-null   float64       \n",
    " 8   primary_title      1326 non-null   object        \n",
    " 9   original_title     1326 non-null   object        \n",
    " 10  start_year         1326 non-null   int64         \n",
    " 11  runtime_minutes    1315 non-null   float64       \n",
    " 12  genres             1326 non-null   object        \n",
    " 13  averagerating      1305 non-null   float64       \n",
    " 14  numvotes           1305 non-null   float64       \n",
    " 15  id                 1326 non-null   int64         \n",
    " 16  release_date       1326 non-null   object        \n",
    " 17  production_budget  1326 non-null   float64       \n",
    " 18  domestic_gross     1326 non-null   float64       \n",
    " 19  worldwide_gross    1326 non-null   float64       \n",
    "Release_Date_Time  1326 non-null   datetime64[ns]\n",
    "profit         "
   ]
  }
 ],
 "metadata": {
  "kernelspec": {
   "display_name": "Python (learn-env)",
   "language": "python",
   "name": "learn-env"
  },
  "language_info": {
   "codemirror_mode": {
    "name": "ipython",
    "version": 3
   },
   "file_extension": ".py",
   "mimetype": "text/x-python",
   "name": "python",
   "nbconvert_exporter": "python",
   "pygments_lexer": "ipython3",
   "version": "3.8.5"
  }
 },
 "nbformat": 4,
 "nbformat_minor": 4
}
