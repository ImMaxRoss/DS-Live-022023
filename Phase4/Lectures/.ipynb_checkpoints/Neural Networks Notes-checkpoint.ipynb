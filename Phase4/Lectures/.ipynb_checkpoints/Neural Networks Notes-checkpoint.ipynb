{
 "cells": [
  {
   "cell_type": "markdown",
   "metadata": {},
   "source": [
    "# 1. Basic Understanding\n",
    "\n",
    "- Neural networks are machine learning models that are designed to mimic the structure and function of the human brain. \n",
    "\n",
    "- They are composed of interconnected nodes (neurons) that are organized into layers. \n",
    "\n",
    "**Input layer**: receives the raw data that is being analyzed\n",
    "\n",
    "**Hidden layer(s)**: performs calculations on the input data and generates an output\n",
    "\n",
    "**Output layer**: produces the final result of the analysis\n",
    "\n",
    "The strength of the connections between the neurons (synapses) is adjusted during the training process, in order to optimize the performance of the network on a particular task.\n",
    "\n",
    "### Why are neural networks useful in data science?\n",
    "- Neural networks are capable of learning complex patterns in large datasets, without being explicitly programmed for each task.\n",
    "\n",
    "**Image recognition**: identifying objects in images or video\n",
    "\n",
    "**Natural language processing: understanding and generating human language\n",
    "\n",
    "**Predictive modeling**: forecasting future trends or events based on historical data\n",
    "\n",
    "By using neural networks, data scientists can automate the process of extracting insights from data, making it more efficient and accurate.\n",
    "\n",
    "### How are neural networks applied?\n",
    "Neural networks can be applied to data science problems in a few different ways:\n",
    "\n",
    "**Supervised learning**: the network is trained on labeled data (where the correct output is known) to learn to predict new outputs for similar inputs\n",
    "\n",
    "**Unsupervised learning**: the network is trained on unlabeled data to discover underlying patterns or structures in the data\n",
    "\n",
    "**Reinforcement learning**: the network is trained to make decisions based on feedback from its environment, with the goal of maximizing a reward function\n",
    "\n",
    "Some common neural network architectures include:\n",
    "\n",
    "**Convolutional neural networks (CNNs)**: used for image recognition and computer vision tasks\n",
    "\n",
    "**Recurrent neural networks (RNNs)**: used for natural language processing and time series analysis\n",
    "\n",
    "**Feedforward neural networks (FNNs)**: used for predictive modeling and classification tasks\n",
    "\n",
    "- Neural networks allow for complex data analysis and pattern recognition without the need for explicit programming. \n",
    "- By training neural networks on large datasets, data scientists can improve the accuracy and efficiency of their analyses."
   ]
  },
  {
   "cell_type": "markdown",
   "metadata": {},
   "source": [
    "# 2. Introduction to Neural Networks\n",
    "\n",
    "## 2.1 Background\n",
    "Neural networks have been around for a while. They are over 70 years old, dating back to  their proposal in 1944 by Warren McCullough and Walter Pitts. These first proposed neural nets had thresholds and weights, but no layers and no specific training mechanisms.\n",
    "\n",
    "The \"perceptron\", the first trainable neural network, was created by Frank Rosenblatt in 1957. It consisted of a single layer with adjustable weights in the middle of input and output layers.\n",
    "\n",
    "![perceptron](images/nn-diagram.png)\n",
    "\n",
    "## 2.2 Wait, Wait, Wait... Why a Neural Network?\n",
    "\"Do we really need to use this 'neural network' if we already have so many machine learning algorithms?\"\n",
    "\n",
    "And in short, we don't need to default to a neural network but they have advantages in solving very complex problems. It might help to know that idea of neural networks was developed back in the 1950s (perceptron network). It wasn't until we had a lot of data and computational power where they became reasonably useful.\n",
    "\n",
    "## 2.3 Starting with a Perceptron\n",
    "<img src='https://cdn-images-1.medium.com/max/1600/0*No3vRruq7Dd4sxdn.png' width=40%/>\n",
    "\n",
    "A Perceptron is the simplest type of neural network, consisting of a single layer of neurons with weighted connections to the input variables and a single output. It can be used for binary classification problems, where the output is either 0 or 1.\n",
    "\n",
    "## 2.4 Relation to Previous Models\n",
    "\n",
    "### 2.4.1 Logistic Regression\n",
    "Think of the weights as the betas and the activation function as the sigmoid function!\n",
    "\n",
    "### 2.4.2 Stacking Ensembles\n",
    "Various base models' predictions are fed into a \"meta-estimator\" that is trained to aggregate them optimally. This is analogous to the multiple **layers** of a neural network.\n",
    "\n",
    "## 2.5 Basic Architecture\n",
    "For our DS purposes, we'll generally imagine our network to consist of only a few layers, including an input layer (where we feed in our data) an output layer (comprising our predictions). Significantly, there will also (generally) be one or more layers of neurons between input and output, called **hidden layers**.\n",
    "\n",
    "One reason these are named hidden layers is that what their output actually represents in not really known.  The activation of node 1 of the first hidden layer may represent a sequence of pixel intensity corresponding to a horizontal line, or a group of dark pixels in the middle of a number's loop. \n",
    "\n",
    "![dense](images/Deeper_network.jpg)\n",
    "\n",
    "Because we are unaware of how exactly these hidden layers are operating, neural networks are considered **black box** algorithms.  You will not be able to gain much inferential insight from a neural net.\n",
    "\n",
    "Each of our pixels from our digit representation goes to each of our nodes, and each node has a set of weights and a bias term associated with it.\n",
    "\n",
    "## 2.6 Inspiration from Actual Neurons\n",
    "The composition of neural networks can be **loosely** compared to a neuron.\n",
    "\n",
    "![neuron](images/neuron.png)\n",
    "\n",
    "Neural networks draw their inspiration from the biology of our own brains, which are of course also accurately described as 'neural networks'. A human brain contains around $10^{11}$ neurons, connected very **densely**.\n",
    "\n",
    "This is a loose analogy, but can be a helpful **mnemonic**. The inputs to our node are like inputs to our neurons. They are either direct sensory information (our features) or input from other axons (nodes passing information to other nodes). The body of our neuron (soma) is where the signals of the dendrites are summed together, which is loosely analogous to our **collector function**. If the summed signal is large enough (our **activation function**), they trigger an action potential which travels down the axon to be passed as output to other dendrites. See [here](https://en.wikipedia.org/wiki/Neuron) for more. "
   ]
  },
  {
   "cell_type": "markdown",
   "metadata": {},
   "source": [
    "# 3. Neural Networks Overview\n",
    "\n",
    "## Couple ways to think of neural networks\n",
    "\n",
    "> We can think of neural networks as finding ways to take inputs and creating something like latent features.\n",
    "\n",
    "![](images/neural_network_with_human_readable_labels.png)\n",
    "\n",
    "> But we can also think of them as creating linear separators and then combining them together"
   ]
  },
  {
   "cell_type": "code",
   "execution_count": 9,
   "metadata": {},
   "outputs": [
    {
     "data": {
      "text/plain": [
       "<matplotlib.collections.PathCollection at 0x2554679e280>"
      ]
     },
     "execution_count": 9,
     "metadata": {},
     "output_type": "execute_result"
    },
    {
     "data": {
      "image/png": "[encoded data removed]",
      "text/plain": [
       "<Figure size 432x288 with 1 Axes>"
      ]
     },
     "metadata": {
      "needs_background": "light"
     },
     "output_type": "display_data"
    }
   ],
   "source": [
    "from matplotlib import pyplot as plt\n",
    "x = np.random.rand(25)\n",
    "y = np.random.rand(25)\n",
    "z = (x + y) <= 0.8\n",
    "plt.scatter(x, y, c=z)"
   ]
  },
  {
   "cell_type": "markdown",
   "metadata": {},
   "source": [
    "![](images/neural_network_mathematics.png)"
   ]
  },
  {
   "cell_type": "markdown",
   "metadata": {},
   "source": [
    "## Parts of a Neural Network\n",
    "A neural network consists of several basic parts that work together to process data inputs and produce an output. These parts include:\n",
    "\n",
    "## Layers\n",
    "- **Input Layer**: the initial parameters (these will be the parts we feed to our network)\n",
    "- **Output Layer**: the classification (or regression predictions)\n",
    "- **Hidden Layer(s)**: the other neurons potentially in a neural network to find more complex patterns\n",
    "\n",
    "## Weights\n",
    "\n",
    "> The weights from our inputs are describing how much they should contribute to the next neuron\n",
    "\n",
    "But we can also think of the weights of hidden layer neurons telling us how much of these linear separations should be combined.\n",
    "\n",
    "## Activation Functions\n",
    "![activation](images/log-reg-nn-ex-a.png)\n",
    "\n",
    "- Then we pass it into an activation function. The activation function converts our summed inputs into an output, which is then passed on to other nodes in hidden layers, or as an end product in the output layer. This can loosely be thought of as the action potential traveling down the axon.\n",
    "\n",
    "- When we build our models in `keras`, we will specify the activation function of both hidden layers and output.\n",
    "\n",
    "## Other Hyperparameters\n",
    "- **Learning Rate ($\\alpha$)**: how big of a step we take in gradient descent\n",
    "- **Number of Epochs**: how many times we repeat this process\n",
    "- **Batch Size**: how many data points we use in a single training session (1 epoch)"
   ]
  },
  {
   "cell_type": "markdown",
   "metadata": {},
   "source": [
    "_____"
   ]
  },
  {
   "cell_type": "markdown",
   "metadata": {},
   "source": [
    "# 4. How Neural Networks Work\n",
    "Neural networks are a type of machine learning algorithm modeled after the structure of the human brain. They are used to recognize patterns and make predictions based on that data.\n",
    "\n",
    "## 4.1 Forward Propagation\n",
    "Forward propagation is the process of moving input data through a neural network to produce an output. This involves several steps:\n",
    "\n",
    "## 4.1.1 Summation\n",
    "The inputs are multiplied by weights and then all the products are summed up to produce a single value. This process is repeated for every neuron in the layer."
   ]
  },
  {
   "cell_type": "code",
   "execution_count": 1,
   "metadata": {},
   "outputs": [
    {
     "name": "stdout",
     "output_type": "stream",
     "text": [
      "3.7\n"
     ]
    }
   ],
   "source": [
    "# Example code for summation\n",
    "inputs = [1, 2, 3, 4]\n",
    "weights = [0.5, 0.3, -0.2, 0.8]\n",
    "output = sum([i * w for i, w in zip(inputs, weights)])\n",
    "print(output)"
   ]
  },
  {
   "cell_type": "markdown",
   "metadata": {},
   "source": [
    "## 4.1.2 Activation Functions\n",
    "The result of the summation is then passed through an activation function, which produces the output of the neuron. Activation functions introduce non-linearity into the neural network, allowing it to learn more complex patterns.\n",
    "\n",
    "## 4.1.2.1 Sigmoid\n",
    "The sigmoid function is commonly used as an activation function. It maps any input to a value between 0 and 1."
   ]
  },
  {
   "cell_type": "code",
   "execution_count": 2,
   "metadata": {},
   "outputs": [
    {
     "name": "stdout",
     "output_type": "stream",
     "text": [
      "0.6224593312018546\n"
     ]
    }
   ],
   "source": [
    "# Example code for sigmoid function\n",
    "import math\n",
    "\n",
    "def sigmoid(x):\n",
    "    return 1 / (1 + math.exp(-x))\n",
    "\n",
    "output = sigmoid(0.5)\n",
    "print(output)"
   ]
  },
  {
   "cell_type": "markdown",
   "metadata": {},
   "source": [
    "## 4.1.2.2 tanh\n",
    "The tanh function is another activation function that maps any input to a value between -1 and 1."
   ]
  },
  {
   "cell_type": "code",
   "execution_count": 3,
   "metadata": {},
   "outputs": [
    {
     "name": "stdout",
     "output_type": "stream",
     "text": [
      "0.46211715726000974\n"
     ]
    }
   ],
   "source": [
    "# Example code for tanh function\n",
    "import math\n",
    "\n",
    "def tanh(x):\n",
    "    return math.tanh(x)\n",
    "\n",
    "output = tanh(0.5)\n",
    "print(output)"
   ]
  },
  {
   "cell_type": "markdown",
   "metadata": {},
   "source": [
    "## 4.1.2.3 ReLU\n",
    "The ReLU (Rectified Linear Unit) function is a popular activation function that returns the input if it is positive, and 0 otherwise."
   ]
  },
  {
   "cell_type": "code",
   "execution_count": 4,
   "metadata": {},
   "outputs": [
    {
     "name": "stdout",
     "output_type": "stream",
     "text": [
      "0.5\n"
     ]
    }
   ],
   "source": [
    "# Example code for ReLU function\n",
    "def ReLU(x):\n",
    "    return max(0, x)\n",
    "\n",
    "output = ReLU(0.5)\n",
    "print(output)"
   ]
  },
  {
   "cell_type": "markdown",
   "metadata": {},
   "source": [
    "## 4.1.2.4 Swish\n",
    "The Swish function is a relatively new activation function that was proposed in 2017. It is similar to the sigmoid function but allows for negative input values."
   ]
  },
  {
   "cell_type": "code",
   "execution_count": 5,
   "metadata": {},
   "outputs": [
    {
     "name": "stdout",
     "output_type": "stream",
     "text": [
      "0.3112296656009273\n"
     ]
    }
   ],
   "source": [
    "# Example code for Swish function\n",
    "import math\n",
    "\n",
    "def Swish(x):\n",
    "    return x / (1 + math.exp(-x))\n",
    "\n",
    "output = Swish(0.5)\n",
    "print(output)"
   ]
  },
  {
   "cell_type": "markdown",
   "metadata": {},
   "source": [
    "## 4.1.2.5 Softmax\n",
    "The softmax function is often used as the activation function for the output layer in a neural network. It maps any input to a probability distribution over several categories."
   ]
  },
  {
   "cell_type": "code",
   "execution_count": 6,
   "metadata": {},
   "outputs": [
    {
     "name": "stdout",
     "output_type": "stream",
     "text": [
      "[0.27283828 0.22338109 0.13548748 0.36829315]\n"
     ]
    }
   ],
   "source": [
    "# Example code for softmax function\n",
    "import numpy as np\n",
    "\n",
    "def Softmax(x):\n",
    "    exp_x = np.exp(x)\n",
    "    return exp_x / np.sum(exp_x)\n",
    "\n",
    "output = Softmax([0.5, 0.3, -0.2, 0.8])\n",
    "print(output)"
   ]
  },
  {
   "cell_type": "markdown",
   "metadata": {},
   "source": [
    "____"
   ]
  },
  {
   "cell_type": "markdown",
   "metadata": {},
   "source": [
    "# Intro to Keras and Tensorflow\n",
    "\n",
    "\n",
    "## backpropagation:\n",
    "Backpropagation is the algorithm used to train artificial neural networks by propagating the errors backward from the output layer to the input layer. During training, the algorithm adjusts the weights of each neuron in the network in proportion to its contribution to the overall error. This iterative process continues until the error is minimized.\n",
    "\n",
    "## The use of gradient descent in neural networks:\n",
    "Gradient descent is an optimization algorithm that is used to minimize the cost function of a neural network. During training, the algorithm calculates the gradient of the cost function with respect to the weights of the network and updates the weights in the opposite direction of the gradient to minimize the error.\n",
    "\n",
    "## Keras API and its role in backend:\n",
    "Keras is a high-level neural network API that is used to build and train deep learning models. It provides a user-friendly interface for building neural networks, making it easier for developers to create complex models without having to worry about the underlying implementation details. Keras can be used with a variety of backends, including TensorFlow, Theano, and Microsoft Cognitive Toolkit.\n",
    "\n",
    "## TensorFlow and its role in neural network modeling:\n",
    "TensorFlow is an open-source software library used for numerical computation and large-scale machine learning. It provides a flexible and efficient platform for building and deploying machine learning models, including neural networks. TensorFlow is widely used in both academia and industry and has become one of the most popular deep learning frameworks available."
   ]
  },
  {
   "cell_type": "markdown",
   "metadata": {},
   "source": [
    "# TensorFlow Tutorial: Using TensorFlow to build a binary classifier neural network"
   ]
  },
  {
   "cell_type": "code",
   "execution_count": 13,
   "metadata": {},
   "outputs": [],
   "source": [
    "from tensorflow.keras.models import Sequential\n",
    "from tensorflow.keras.layers import Dense"
   ]
  },
  {
   "cell_type": "markdown",
   "metadata": {},
   "source": [
    "- **Sequential** is a class that allows us to create a model layer-by-layer.\n",
    "\n",
    "- **Dense** is a class that creates fully connected layers.\n",
    "\n",
    "We can define the network and its layers, compile the model, and fit it to our training data. "
   ]
  },
  {
   "cell_type": "code",
   "execution_count": null,
   "metadata": {},
   "outputs": [],
   "source": [
    "# Define the model\n",
    "model = Sequential()\n",
    "model.add(Dense(12, input_dim=8, activation='relu'))\n",
    "model.add(Dense(8, activation='relu'))\n",
    "model.add(Dense(1, activation='sigmoid'))\n",
    "\n",
    "# Compile the model\n",
    "model.compile(loss='binary_crossentropy', optimizer='adam', metrics=['accuracy'])\n",
    "\n",
    "# Fit the model\n",
    "model.fit(X_train, y_train, epochs=150, batch_size=10)"
   ]
  },
  {
   "cell_type": "markdown",
   "metadata": {},
   "source": [
    "- In this example, we define a model with three layers: \n",
    "        - The input layer with 8 nodes, a hidden layer with 12 nodes, and another hidden layer with 8 nodes. \n",
    "        - The output layer has one node with a sigmoid activation function, which is appropriate for binary classification problems.\n",
    "- We compile the model using binary cross-entropy as the loss function, Adam as the optimizer, and accuracy as the metric to evaluate the model.\n",
    "- Finally, we fit the model using our training data, specifying the number of epochs and batch size.\n",
    "\n",
    "After fitting the model, we can evaluate its performance on our test data using the evaluate method of the model object."
   ]
  }
 ],
 "metadata": {
  "kernelspec": {
   "display_name": "Python (learn-env)",
   "language": "python",
   "name": "learn-env"
  },
  "language_info": {
   "codemirror_mode": {
    "name": "ipython",
    "version": 3
   },
   "file_extension": ".py",
   "mimetype": "text/x-python",
   "name": "python",
   "nbconvert_exporter": "python",
   "pygments_lexer": "ipython3",
   "version": "3.8.5"
  }
 },
 "nbformat": 4,
 "nbformat_minor": 4
}
